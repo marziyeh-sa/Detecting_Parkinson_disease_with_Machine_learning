{
  "nbformat": 4,
  "nbformat_minor": 0,
  "metadata": {
    "colab": {
      "provenance": [],
      "include_colab_link": true
    },
    "kernelspec": {
      "display_name": "Python 3",
      "language": "python",
      "name": "python3"
    },
    "language_info": {
      "codemirror_mode": {
        "name": "ipython",
        "version": 3
      },
      "file_extension": ".py",
      "mimetype": "text/x-python",
      "name": "python",
      "nbconvert_exporter": "python",
      "pygments_lexer": "ipython3",
      "version": "3.8.3"
    }
  },
  "cells": [
    {
      "cell_type": "markdown",
      "metadata": {
        "id": "view-in-github",
        "colab_type": "text"
      },
      "source": [
        "<a href=\"https://colab.research.google.com/github/marziyeh-sa/Detecting_Parkinson_disease_with_Machine_learning/blob/main/final_project_ML_UT.ipynb\" target=\"_parent\"><img src=\"https://colab.research.google.com/assets/colab-badge.svg\" alt=\"Open In Colab\"/></a>"
      ]
    },
    {
      "cell_type": "code",
      "metadata": {
        "id": "ZmwCxFQYGp61"
      },
      "source": [
        "import numpy as np\n",
        "import pandas as pd\n",
        "import matplotlib.pyplot as plt\n",
        "import seaborn as sns\n",
        "from sklearn import svm, datasets\n",
        "from sklearn.multiclass import OneVsRestClassifier\n",
        "from sklearn.multiclass import OneVsOneClassifier\n",
        "from sklearn.metrics import confusion_matrix\n",
        "import itertools\n",
        "from sklearn.preprocessing import MinMaxScaler\n",
        "from sklearn.decomposition import PCA\n",
        "from sklearn.discriminant_analysis import LinearDiscriminantAnalysis as LDA\n",
        "from sklearn.model_selection import train_test_split\n",
        "#from mlxtend.feature_selection import SequentialFeatureSelector as SFS"
      ],
      "execution_count": 1,
      "outputs": []
    },
    {
      "cell_type": "markdown",
      "source": [
        "if you want to use google colab and load data from google drive run this row!!"
      ],
      "metadata": {
        "id": "iYr-IAqwo0CN"
      }
    },
    {
      "cell_type": "code",
      "source": [
        "from google.colab import drive\n",
        "drive.mount('/content/drive')"
      ],
      "metadata": {
        "colab": {
          "base_uri": "https://localhost:8080/"
        },
        "id": "7EbF6742oXBC",
        "outputId": "5379f27e-c38b-466e-dfdc-cdcb0302dbd6"
      },
      "execution_count": 3,
      "outputs": [
        {
          "output_type": "stream",
          "name": "stdout",
          "text": [
            "Mounted at /content/drive\n"
          ]
        }
      ]
    },
    {
      "cell_type": "code",
      "metadata": {
        "colab": {
          "base_uri": "https://localhost:8080/",
          "height": 300
        },
        "id": "ihh29Y7XGp7A",
        "outputId": "5800ba0f-049f-4a00-962a-a6f6b3fffbf9"
      },
      "source": [
        "PATH_TO_DATA = '/content/drive/MyDrive/Colab Notebooks/ML_UT/pd_speech_features.csv'\n",
        "data = pd.read_csv(PATH_TO_DATA)\n",
        "data.head()"
      ],
      "execution_count": 4,
      "outputs": [
        {
          "output_type": "execute_result",
          "data": {
            "text/plain": [
              "   id  gender      PPE      DFA     RPDE  numPulses  numPeriodsPulses  \\\n",
              "0   0       1  0.85247  0.71826  0.57227        240               239   \n",
              "1   0       1  0.76686  0.69481  0.53966        234               233   \n",
              "2   0       1  0.85083  0.67604  0.58982        232               231   \n",
              "3   1       0  0.41121  0.79672  0.59257        178               177   \n",
              "4   1       0  0.32790  0.79782  0.53028        236               235   \n",
              "\n",
              "   meanPeriodPulses  stdDevPeriodPulses  locPctJitter  ...  \\\n",
              "0          0.008064            0.000087       0.00218  ...   \n",
              "1          0.008258            0.000073       0.00195  ...   \n",
              "2          0.008340            0.000060       0.00176  ...   \n",
              "3          0.010858            0.000183       0.00419  ...   \n",
              "4          0.008162            0.002669       0.00535  ...   \n",
              "\n",
              "   tqwt_kurtosisValue_dec_28  tqwt_kurtosisValue_dec_29  \\\n",
              "0                     1.5620                     2.6445   \n",
              "1                     1.5589                     3.6107   \n",
              "2                     1.5643                     2.3308   \n",
              "3                     3.7805                     3.5664   \n",
              "4                     6.1727                     5.8416   \n",
              "\n",
              "   tqwt_kurtosisValue_dec_30  tqwt_kurtosisValue_dec_31  \\\n",
              "0                     3.8686                     4.2105   \n",
              "1                    23.5155                    14.1962   \n",
              "2                     9.4959                    10.7458   \n",
              "3                     5.2558                    14.0403   \n",
              "4                     6.0805                     5.7621   \n",
              "\n",
              "   tqwt_kurtosisValue_dec_32  tqwt_kurtosisValue_dec_33  \\\n",
              "0                     5.1221                     4.4625   \n",
              "1                    11.0261                     9.5082   \n",
              "2                    11.0177                     4.8066   \n",
              "3                     4.2235                     4.6857   \n",
              "4                     7.7817                    11.6891   \n",
              "\n",
              "   tqwt_kurtosisValue_dec_34  tqwt_kurtosisValue_dec_35  \\\n",
              "0                     2.6202                     3.0004   \n",
              "1                     6.5245                     6.3431   \n",
              "2                     2.9199                     3.1495   \n",
              "3                     4.8460                     6.2650   \n",
              "4                     8.2103                     5.0559   \n",
              "\n",
              "   tqwt_kurtosisValue_dec_36  class  \n",
              "0                    18.9405      1  \n",
              "1                    45.1780      1  \n",
              "2                     4.7666      1  \n",
              "3                     4.0603      1  \n",
              "4                     6.1164      1  \n",
              "\n",
              "[5 rows x 755 columns]"
            ],
            "text/html": [
              "\n",
              "  <div id=\"df-d5f42f5d-21ca-44dd-ab1b-9982b924704b\">\n",
              "    <div class=\"colab-df-container\">\n",
              "      <div>\n",
              "<style scoped>\n",
              "    .dataframe tbody tr th:only-of-type {\n",
              "        vertical-align: middle;\n",
              "    }\n",
              "\n",
              "    .dataframe tbody tr th {\n",
              "        vertical-align: top;\n",
              "    }\n",
              "\n",
              "    .dataframe thead th {\n",
              "        text-align: right;\n",
              "    }\n",
              "</style>\n",
              "<table border=\"1\" class=\"dataframe\">\n",
              "  <thead>\n",
              "    <tr style=\"text-align: right;\">\n",
              "      <th></th>\n",
              "      <th>id</th>\n",
              "      <th>gender</th>\n",
              "      <th>PPE</th>\n",
              "      <th>DFA</th>\n",
              "      <th>RPDE</th>\n",
              "      <th>numPulses</th>\n",
              "      <th>numPeriodsPulses</th>\n",
              "      <th>meanPeriodPulses</th>\n",
              "      <th>stdDevPeriodPulses</th>\n",
              "      <th>locPctJitter</th>\n",
              "      <th>...</th>\n",
              "      <th>tqwt_kurtosisValue_dec_28</th>\n",
              "      <th>tqwt_kurtosisValue_dec_29</th>\n",
              "      <th>tqwt_kurtosisValue_dec_30</th>\n",
              "      <th>tqwt_kurtosisValue_dec_31</th>\n",
              "      <th>tqwt_kurtosisValue_dec_32</th>\n",
              "      <th>tqwt_kurtosisValue_dec_33</th>\n",
              "      <th>tqwt_kurtosisValue_dec_34</th>\n",
              "      <th>tqwt_kurtosisValue_dec_35</th>\n",
              "      <th>tqwt_kurtosisValue_dec_36</th>\n",
              "      <th>class</th>\n",
              "    </tr>\n",
              "  </thead>\n",
              "  <tbody>\n",
              "    <tr>\n",
              "      <th>0</th>\n",
              "      <td>0</td>\n",
              "      <td>1</td>\n",
              "      <td>0.85247</td>\n",
              "      <td>0.71826</td>\n",
              "      <td>0.57227</td>\n",
              "      <td>240</td>\n",
              "      <td>239</td>\n",
              "      <td>0.008064</td>\n",
              "      <td>0.000087</td>\n",
              "      <td>0.00218</td>\n",
              "      <td>...</td>\n",
              "      <td>1.5620</td>\n",
              "      <td>2.6445</td>\n",
              "      <td>3.8686</td>\n",
              "      <td>4.2105</td>\n",
              "      <td>5.1221</td>\n",
              "      <td>4.4625</td>\n",
              "      <td>2.6202</td>\n",
              "      <td>3.0004</td>\n",
              "      <td>18.9405</td>\n",
              "      <td>1</td>\n",
              "    </tr>\n",
              "    <tr>\n",
              "      <th>1</th>\n",
              "      <td>0</td>\n",
              "      <td>1</td>\n",
              "      <td>0.76686</td>\n",
              "      <td>0.69481</td>\n",
              "      <td>0.53966</td>\n",
              "      <td>234</td>\n",
              "      <td>233</td>\n",
              "      <td>0.008258</td>\n",
              "      <td>0.000073</td>\n",
              "      <td>0.00195</td>\n",
              "      <td>...</td>\n",
              "      <td>1.5589</td>\n",
              "      <td>3.6107</td>\n",
              "      <td>23.5155</td>\n",
              "      <td>14.1962</td>\n",
              "      <td>11.0261</td>\n",
              "      <td>9.5082</td>\n",
              "      <td>6.5245</td>\n",
              "      <td>6.3431</td>\n",
              "      <td>45.1780</td>\n",
              "      <td>1</td>\n",
              "    </tr>\n",
              "    <tr>\n",
              "      <th>2</th>\n",
              "      <td>0</td>\n",
              "      <td>1</td>\n",
              "      <td>0.85083</td>\n",
              "      <td>0.67604</td>\n",
              "      <td>0.58982</td>\n",
              "      <td>232</td>\n",
              "      <td>231</td>\n",
              "      <td>0.008340</td>\n",
              "      <td>0.000060</td>\n",
              "      <td>0.00176</td>\n",
              "      <td>...</td>\n",
              "      <td>1.5643</td>\n",
              "      <td>2.3308</td>\n",
              "      <td>9.4959</td>\n",
              "      <td>10.7458</td>\n",
              "      <td>11.0177</td>\n",
              "      <td>4.8066</td>\n",
              "      <td>2.9199</td>\n",
              "      <td>3.1495</td>\n",
              "      <td>4.7666</td>\n",
              "      <td>1</td>\n",
              "    </tr>\n",
              "    <tr>\n",
              "      <th>3</th>\n",
              "      <td>1</td>\n",
              "      <td>0</td>\n",
              "      <td>0.41121</td>\n",
              "      <td>0.79672</td>\n",
              "      <td>0.59257</td>\n",
              "      <td>178</td>\n",
              "      <td>177</td>\n",
              "      <td>0.010858</td>\n",
              "      <td>0.000183</td>\n",
              "      <td>0.00419</td>\n",
              "      <td>...</td>\n",
              "      <td>3.7805</td>\n",
              "      <td>3.5664</td>\n",
              "      <td>5.2558</td>\n",
              "      <td>14.0403</td>\n",
              "      <td>4.2235</td>\n",
              "      <td>4.6857</td>\n",
              "      <td>4.8460</td>\n",
              "      <td>6.2650</td>\n",
              "      <td>4.0603</td>\n",
              "      <td>1</td>\n",
              "    </tr>\n",
              "    <tr>\n",
              "      <th>4</th>\n",
              "      <td>1</td>\n",
              "      <td>0</td>\n",
              "      <td>0.32790</td>\n",
              "      <td>0.79782</td>\n",
              "      <td>0.53028</td>\n",
              "      <td>236</td>\n",
              "      <td>235</td>\n",
              "      <td>0.008162</td>\n",
              "      <td>0.002669</td>\n",
              "      <td>0.00535</td>\n",
              "      <td>...</td>\n",
              "      <td>6.1727</td>\n",
              "      <td>5.8416</td>\n",
              "      <td>6.0805</td>\n",
              "      <td>5.7621</td>\n",
              "      <td>7.7817</td>\n",
              "      <td>11.6891</td>\n",
              "      <td>8.2103</td>\n",
              "      <td>5.0559</td>\n",
              "      <td>6.1164</td>\n",
              "      <td>1</td>\n",
              "    </tr>\n",
              "  </tbody>\n",
              "</table>\n",
              "<p>5 rows × 755 columns</p>\n",
              "</div>\n",
              "      <button class=\"colab-df-convert\" onclick=\"convertToInteractive('df-d5f42f5d-21ca-44dd-ab1b-9982b924704b')\"\n",
              "              title=\"Convert this dataframe to an interactive table.\"\n",
              "              style=\"display:none;\">\n",
              "        \n",
              "  <svg xmlns=\"http://www.w3.org/2000/svg\" height=\"24px\"viewBox=\"0 0 24 24\"\n",
              "       width=\"24px\">\n",
              "    <path d=\"M0 0h24v24H0V0z\" fill=\"none\"/>\n",
              "    <path d=\"M18.56 5.44l.94 2.06.94-2.06 2.06-.94-2.06-.94-.94-2.06-.94 2.06-2.06.94zm-11 1L8.5 8.5l.94-2.06 2.06-.94-2.06-.94L8.5 2.5l-.94 2.06-2.06.94zm10 10l.94 2.06.94-2.06 2.06-.94-2.06-.94-.94-2.06-.94 2.06-2.06.94z\"/><path d=\"M17.41 7.96l-1.37-1.37c-.4-.4-.92-.59-1.43-.59-.52 0-1.04.2-1.43.59L10.3 9.45l-7.72 7.72c-.78.78-.78 2.05 0 2.83L4 21.41c.39.39.9.59 1.41.59.51 0 1.02-.2 1.41-.59l7.78-7.78 2.81-2.81c.8-.78.8-2.07 0-2.86zM5.41 20L4 18.59l7.72-7.72 1.47 1.35L5.41 20z\"/>\n",
              "  </svg>\n",
              "      </button>\n",
              "      \n",
              "  <style>\n",
              "    .colab-df-container {\n",
              "      display:flex;\n",
              "      flex-wrap:wrap;\n",
              "      gap: 12px;\n",
              "    }\n",
              "\n",
              "    .colab-df-convert {\n",
              "      background-color: #E8F0FE;\n",
              "      border: none;\n",
              "      border-radius: 50%;\n",
              "      cursor: pointer;\n",
              "      display: none;\n",
              "      fill: #1967D2;\n",
              "      height: 32px;\n",
              "      padding: 0 0 0 0;\n",
              "      width: 32px;\n",
              "    }\n",
              "\n",
              "    .colab-df-convert:hover {\n",
              "      background-color: #E2EBFA;\n",
              "      box-shadow: 0px 1px 2px rgba(60, 64, 67, 0.3), 0px 1px 3px 1px rgba(60, 64, 67, 0.15);\n",
              "      fill: #174EA6;\n",
              "    }\n",
              "\n",
              "    [theme=dark] .colab-df-convert {\n",
              "      background-color: #3B4455;\n",
              "      fill: #D2E3FC;\n",
              "    }\n",
              "\n",
              "    [theme=dark] .colab-df-convert:hover {\n",
              "      background-color: #434B5C;\n",
              "      box-shadow: 0px 1px 3px 1px rgba(0, 0, 0, 0.15);\n",
              "      filter: drop-shadow(0px 1px 2px rgba(0, 0, 0, 0.3));\n",
              "      fill: #FFFFFF;\n",
              "    }\n",
              "  </style>\n",
              "\n",
              "      <script>\n",
              "        const buttonEl =\n",
              "          document.querySelector('#df-d5f42f5d-21ca-44dd-ab1b-9982b924704b button.colab-df-convert');\n",
              "        buttonEl.style.display =\n",
              "          google.colab.kernel.accessAllowed ? 'block' : 'none';\n",
              "\n",
              "        async function convertToInteractive(key) {\n",
              "          const element = document.querySelector('#df-d5f42f5d-21ca-44dd-ab1b-9982b924704b');\n",
              "          const dataTable =\n",
              "            await google.colab.kernel.invokeFunction('convertToInteractive',\n",
              "                                                     [key], {});\n",
              "          if (!dataTable) return;\n",
              "\n",
              "          const docLinkHtml = 'Like what you see? Visit the ' +\n",
              "            '<a target=\"_blank\" href=https://colab.research.google.com/notebooks/data_table.ipynb>data table notebook</a>'\n",
              "            + ' to learn more about interactive tables.';\n",
              "          element.innerHTML = '';\n",
              "          dataTable['output_type'] = 'display_data';\n",
              "          await google.colab.output.renderOutput(dataTable, element);\n",
              "          const docLink = document.createElement('div');\n",
              "          docLink.innerHTML = docLinkHtml;\n",
              "          element.appendChild(docLink);\n",
              "        }\n",
              "      </script>\n",
              "    </div>\n",
              "  </div>\n",
              "  "
            ]
          },
          "metadata": {},
          "execution_count": 4
        }
      ]
    },
    {
      "cell_type": "code",
      "metadata": {
        "colab": {
          "base_uri": "https://localhost:8080/"
        },
        "id": "9TRD5E19Gp7J",
        "outputId": "1d3f869d-14e3-4904-d36d-cc2b45b429eb"
      },
      "source": [
        "is_all_zero = np. all((data.isnull().sum() == 0))\n",
        "is_all_zero"
      ],
      "execution_count": null,
      "outputs": [
        {
          "output_type": "execute_result",
          "data": {
            "text/plain": [
              "True"
            ]
          },
          "metadata": {
            "tags": []
          },
          "execution_count": 122
        }
      ]
    },
    {
      "cell_type": "code",
      "metadata": {
        "colab": {
          "base_uri": "https://localhost:8080/",
          "height": 246
        },
        "id": "qDoQubk7Gp7M",
        "outputId": "10bb3b5b-6426-4c93-f634-f88c92c06c3c"
      },
      "source": [
        "y = data['class']\n",
        "x = data.drop(\"class\", axis=1)\n",
        "x.head()"
      ],
      "execution_count": null,
      "outputs": [
        {
          "output_type": "execute_result",
          "data": {
            "text/html": [
              "<div>\n",
              "<style scoped>\n",
              "    .dataframe tbody tr th:only-of-type {\n",
              "        vertical-align: middle;\n",
              "    }\n",
              "\n",
              "    .dataframe tbody tr th {\n",
              "        vertical-align: top;\n",
              "    }\n",
              "\n",
              "    .dataframe thead th {\n",
              "        text-align: right;\n",
              "    }\n",
              "</style>\n",
              "<table border=\"1\" class=\"dataframe\">\n",
              "  <thead>\n",
              "    <tr style=\"text-align: right;\">\n",
              "      <th></th>\n",
              "      <th>id</th>\n",
              "      <th>gender</th>\n",
              "      <th>PPE</th>\n",
              "      <th>DFA</th>\n",
              "      <th>RPDE</th>\n",
              "      <th>numPulses</th>\n",
              "      <th>numPeriodsPulses</th>\n",
              "      <th>meanPeriodPulses</th>\n",
              "      <th>stdDevPeriodPulses</th>\n",
              "      <th>locPctJitter</th>\n",
              "      <th>locAbsJitter</th>\n",
              "      <th>rapJitter</th>\n",
              "      <th>ppq5Jitter</th>\n",
              "      <th>ddpJitter</th>\n",
              "      <th>locShimmer</th>\n",
              "      <th>locDbShimmer</th>\n",
              "      <th>apq3Shimmer</th>\n",
              "      <th>apq5Shimmer</th>\n",
              "      <th>apq11Shimmer</th>\n",
              "      <th>ddaShimmer</th>\n",
              "      <th>meanAutoCorrHarmonicity</th>\n",
              "      <th>meanNoiseToHarmHarmonicity</th>\n",
              "      <th>meanHarmToNoiseHarmonicity</th>\n",
              "      <th>minIntensity</th>\n",
              "      <th>maxIntensity</th>\n",
              "      <th>meanIntensity</th>\n",
              "      <th>f1</th>\n",
              "      <th>f2</th>\n",
              "      <th>f3</th>\n",
              "      <th>f4</th>\n",
              "      <th>b1</th>\n",
              "      <th>b2</th>\n",
              "      <th>b3</th>\n",
              "      <th>b4</th>\n",
              "      <th>GQ_prc5_95</th>\n",
              "      <th>GQ_std_cycle_open</th>\n",
              "      <th>GQ_std_cycle_closed</th>\n",
              "      <th>GNE_mean</th>\n",
              "      <th>GNE_std</th>\n",
              "      <th>GNE_SNR_TKEO</th>\n",
              "      <th>...</th>\n",
              "      <th>tqwt_skewnessValue_dec_33</th>\n",
              "      <th>tqwt_skewnessValue_dec_34</th>\n",
              "      <th>tqwt_skewnessValue_dec_35</th>\n",
              "      <th>tqwt_skewnessValue_dec_36</th>\n",
              "      <th>tqwt_kurtosisValue_dec_1</th>\n",
              "      <th>tqwt_kurtosisValue_dec_2</th>\n",
              "      <th>tqwt_kurtosisValue_dec_3</th>\n",
              "      <th>tqwt_kurtosisValue_dec_4</th>\n",
              "      <th>tqwt_kurtosisValue_dec_5</th>\n",
              "      <th>tqwt_kurtosisValue_dec_6</th>\n",
              "      <th>tqwt_kurtosisValue_dec_7</th>\n",
              "      <th>tqwt_kurtosisValue_dec_8</th>\n",
              "      <th>tqwt_kurtosisValue_dec_9</th>\n",
              "      <th>tqwt_kurtosisValue_dec_10</th>\n",
              "      <th>tqwt_kurtosisValue_dec_11</th>\n",
              "      <th>tqwt_kurtosisValue_dec_12</th>\n",
              "      <th>tqwt_kurtosisValue_dec_13</th>\n",
              "      <th>tqwt_kurtosisValue_dec_14</th>\n",
              "      <th>tqwt_kurtosisValue_dec_15</th>\n",
              "      <th>tqwt_kurtosisValue_dec_16</th>\n",
              "      <th>tqwt_kurtosisValue_dec_17</th>\n",
              "      <th>tqwt_kurtosisValue_dec_18</th>\n",
              "      <th>tqwt_kurtosisValue_dec_19</th>\n",
              "      <th>tqwt_kurtosisValue_dec_20</th>\n",
              "      <th>tqwt_kurtosisValue_dec_21</th>\n",
              "      <th>tqwt_kurtosisValue_dec_22</th>\n",
              "      <th>tqwt_kurtosisValue_dec_23</th>\n",
              "      <th>tqwt_kurtosisValue_dec_24</th>\n",
              "      <th>tqwt_kurtosisValue_dec_25</th>\n",
              "      <th>tqwt_kurtosisValue_dec_26</th>\n",
              "      <th>tqwt_kurtosisValue_dec_27</th>\n",
              "      <th>tqwt_kurtosisValue_dec_28</th>\n",
              "      <th>tqwt_kurtosisValue_dec_29</th>\n",
              "      <th>tqwt_kurtosisValue_dec_30</th>\n",
              "      <th>tqwt_kurtosisValue_dec_31</th>\n",
              "      <th>tqwt_kurtosisValue_dec_32</th>\n",
              "      <th>tqwt_kurtosisValue_dec_33</th>\n",
              "      <th>tqwt_kurtosisValue_dec_34</th>\n",
              "      <th>tqwt_kurtosisValue_dec_35</th>\n",
              "      <th>tqwt_kurtosisValue_dec_36</th>\n",
              "    </tr>\n",
              "  </thead>\n",
              "  <tbody>\n",
              "    <tr>\n",
              "      <th>0</th>\n",
              "      <td>0</td>\n",
              "      <td>1</td>\n",
              "      <td>0.85247</td>\n",
              "      <td>0.71826</td>\n",
              "      <td>0.57227</td>\n",
              "      <td>240</td>\n",
              "      <td>239</td>\n",
              "      <td>0.008064</td>\n",
              "      <td>0.000087</td>\n",
              "      <td>0.00218</td>\n",
              "      <td>0.000018</td>\n",
              "      <td>0.00067</td>\n",
              "      <td>0.00129</td>\n",
              "      <td>0.00200</td>\n",
              "      <td>0.05883</td>\n",
              "      <td>0.517</td>\n",
              "      <td>0.03011</td>\n",
              "      <td>0.03496</td>\n",
              "      <td>0.04828</td>\n",
              "      <td>0.09034</td>\n",
              "      <td>0.970805</td>\n",
              "      <td>0.036223</td>\n",
              "      <td>18.995</td>\n",
              "      <td>69.997496</td>\n",
              "      <td>76.088046</td>\n",
              "      <td>72.465512</td>\n",
              "      <td>539.342735</td>\n",
              "      <td>1031.849040</td>\n",
              "      <td>2447.162183</td>\n",
              "      <td>3655.054806</td>\n",
              "      <td>101.092218</td>\n",
              "      <td>83.147440</td>\n",
              "      <td>255.214830</td>\n",
              "      <td>396.643631</td>\n",
              "      <td>0.77778</td>\n",
              "      <td>11.7245</td>\n",
              "      <td>2.8277</td>\n",
              "      <td>1.17300</td>\n",
              "      <td>0.26512</td>\n",
              "      <td>0.083127</td>\n",
              "      <td>...</td>\n",
              "      <td>-0.173620</td>\n",
              "      <td>0.071728</td>\n",
              "      <td>0.010352</td>\n",
              "      <td>-2.73030</td>\n",
              "      <td>66.5007</td>\n",
              "      <td>36.9934</td>\n",
              "      <td>26.3508</td>\n",
              "      <td>51.9577</td>\n",
              "      <td>21.5451</td>\n",
              "      <td>8.2488</td>\n",
              "      <td>8.0024</td>\n",
              "      <td>6.9635</td>\n",
              "      <td>6.9189</td>\n",
              "      <td>5.0622</td>\n",
              "      <td>4.6068</td>\n",
              "      <td>7.7218</td>\n",
              "      <td>2.7224</td>\n",
              "      <td>2.4171</td>\n",
              "      <td>2.9383</td>\n",
              "      <td>4.2077</td>\n",
              "      <td>3.1541</td>\n",
              "      <td>2.8531</td>\n",
              "      <td>2.7496</td>\n",
              "      <td>2.1550</td>\n",
              "      <td>2.9457</td>\n",
              "      <td>2.1993</td>\n",
              "      <td>1.9830</td>\n",
              "      <td>1.8314</td>\n",
              "      <td>2.0062</td>\n",
              "      <td>1.6058</td>\n",
              "      <td>1.5466</td>\n",
              "      <td>1.5620</td>\n",
              "      <td>2.6445</td>\n",
              "      <td>3.8686</td>\n",
              "      <td>4.2105</td>\n",
              "      <td>5.1221</td>\n",
              "      <td>4.4625</td>\n",
              "      <td>2.6202</td>\n",
              "      <td>3.0004</td>\n",
              "      <td>18.9405</td>\n",
              "    </tr>\n",
              "    <tr>\n",
              "      <th>1</th>\n",
              "      <td>0</td>\n",
              "      <td>1</td>\n",
              "      <td>0.76686</td>\n",
              "      <td>0.69481</td>\n",
              "      <td>0.53966</td>\n",
              "      <td>234</td>\n",
              "      <td>233</td>\n",
              "      <td>0.008258</td>\n",
              "      <td>0.000073</td>\n",
              "      <td>0.00195</td>\n",
              "      <td>0.000016</td>\n",
              "      <td>0.00052</td>\n",
              "      <td>0.00112</td>\n",
              "      <td>0.00157</td>\n",
              "      <td>0.05516</td>\n",
              "      <td>0.502</td>\n",
              "      <td>0.02320</td>\n",
              "      <td>0.03675</td>\n",
              "      <td>0.06195</td>\n",
              "      <td>0.06961</td>\n",
              "      <td>0.984322</td>\n",
              "      <td>0.017974</td>\n",
              "      <td>21.497</td>\n",
              "      <td>67.415903</td>\n",
              "      <td>73.046374</td>\n",
              "      <td>71.528945</td>\n",
              "      <td>564.363614</td>\n",
              "      <td>1016.367294</td>\n",
              "      <td>2383.565201</td>\n",
              "      <td>3498.681572</td>\n",
              "      <td>58.465428</td>\n",
              "      <td>86.487292</td>\n",
              "      <td>248.357127</td>\n",
              "      <td>218.229722</td>\n",
              "      <td>0.81250</td>\n",
              "      <td>13.8284</td>\n",
              "      <td>2.8908</td>\n",
              "      <td>1.02210</td>\n",
              "      <td>0.22004</td>\n",
              "      <td>0.127410</td>\n",
              "      <td>...</td>\n",
              "      <td>0.684220</td>\n",
              "      <td>0.729330</td>\n",
              "      <td>0.780410</td>\n",
              "      <td>5.22940</td>\n",
              "      <td>8643.9860</td>\n",
              "      <td>3962.0554</td>\n",
              "      <td>2976.2411</td>\n",
              "      <td>4329.0607</td>\n",
              "      <td>4005.1329</td>\n",
              "      <td>1127.6762</td>\n",
              "      <td>116.5331</td>\n",
              "      <td>20.2332</td>\n",
              "      <td>13.6395</td>\n",
              "      <td>12.5514</td>\n",
              "      <td>13.6965</td>\n",
              "      <td>60.8974</td>\n",
              "      <td>6.2958</td>\n",
              "      <td>3.0323</td>\n",
              "      <td>3.4039</td>\n",
              "      <td>4.3794</td>\n",
              "      <td>2.4329</td>\n",
              "      <td>2.0585</td>\n",
              "      <td>2.1839</td>\n",
              "      <td>2.2061</td>\n",
              "      <td>3.0999</td>\n",
              "      <td>1.9824</td>\n",
              "      <td>1.6227</td>\n",
              "      <td>1.5783</td>\n",
              "      <td>2.0470</td>\n",
              "      <td>1.5772</td>\n",
              "      <td>1.5530</td>\n",
              "      <td>1.5589</td>\n",
              "      <td>3.6107</td>\n",
              "      <td>23.5155</td>\n",
              "      <td>14.1962</td>\n",
              "      <td>11.0261</td>\n",
              "      <td>9.5082</td>\n",
              "      <td>6.5245</td>\n",
              "      <td>6.3431</td>\n",
              "      <td>45.1780</td>\n",
              "    </tr>\n",
              "    <tr>\n",
              "      <th>2</th>\n",
              "      <td>0</td>\n",
              "      <td>1</td>\n",
              "      <td>0.85083</td>\n",
              "      <td>0.67604</td>\n",
              "      <td>0.58982</td>\n",
              "      <td>232</td>\n",
              "      <td>231</td>\n",
              "      <td>0.008340</td>\n",
              "      <td>0.000060</td>\n",
              "      <td>0.00176</td>\n",
              "      <td>0.000015</td>\n",
              "      <td>0.00057</td>\n",
              "      <td>0.00111</td>\n",
              "      <td>0.00171</td>\n",
              "      <td>0.09902</td>\n",
              "      <td>0.897</td>\n",
              "      <td>0.05094</td>\n",
              "      <td>0.06497</td>\n",
              "      <td>0.07772</td>\n",
              "      <td>0.15282</td>\n",
              "      <td>0.974846</td>\n",
              "      <td>0.026313</td>\n",
              "      <td>17.651</td>\n",
              "      <td>62.661706</td>\n",
              "      <td>71.633549</td>\n",
              "      <td>68.086583</td>\n",
              "      <td>548.444604</td>\n",
              "      <td>1032.406341</td>\n",
              "      <td>2357.826954</td>\n",
              "      <td>3678.128717</td>\n",
              "      <td>160.387771</td>\n",
              "      <td>54.685168</td>\n",
              "      <td>151.694847</td>\n",
              "      <td>84.240339</td>\n",
              "      <td>0.81818</td>\n",
              "      <td>26.9273</td>\n",
              "      <td>2.6975</td>\n",
              "      <td>0.84951</td>\n",
              "      <td>0.15756</td>\n",
              "      <td>0.116890</td>\n",
              "      <td>...</td>\n",
              "      <td>-0.060885</td>\n",
              "      <td>0.269510</td>\n",
              "      <td>-0.005522</td>\n",
              "      <td>0.35054</td>\n",
              "      <td>29.2717</td>\n",
              "      <td>32.4971</td>\n",
              "      <td>38.9453</td>\n",
              "      <td>85.1480</td>\n",
              "      <td>62.5132</td>\n",
              "      <td>9.7308</td>\n",
              "      <td>6.8890</td>\n",
              "      <td>6.1357</td>\n",
              "      <td>5.4926</td>\n",
              "      <td>3.9078</td>\n",
              "      <td>4.0864</td>\n",
              "      <td>6.9828</td>\n",
              "      <td>3.4411</td>\n",
              "      <td>3.5173</td>\n",
              "      <td>3.7204</td>\n",
              "      <td>4.2212</td>\n",
              "      <td>3.4881</td>\n",
              "      <td>3.4851</td>\n",
              "      <td>3.3007</td>\n",
              "      <td>2.0427</td>\n",
              "      <td>3.1436</td>\n",
              "      <td>2.1203</td>\n",
              "      <td>1.6627</td>\n",
              "      <td>1.6731</td>\n",
              "      <td>3.2597</td>\n",
              "      <td>1.5921</td>\n",
              "      <td>1.5399</td>\n",
              "      <td>1.5643</td>\n",
              "      <td>2.3308</td>\n",
              "      <td>9.4959</td>\n",
              "      <td>10.7458</td>\n",
              "      <td>11.0177</td>\n",
              "      <td>4.8066</td>\n",
              "      <td>2.9199</td>\n",
              "      <td>3.1495</td>\n",
              "      <td>4.7666</td>\n",
              "    </tr>\n",
              "    <tr>\n",
              "      <th>3</th>\n",
              "      <td>1</td>\n",
              "      <td>0</td>\n",
              "      <td>0.41121</td>\n",
              "      <td>0.79672</td>\n",
              "      <td>0.59257</td>\n",
              "      <td>178</td>\n",
              "      <td>177</td>\n",
              "      <td>0.010858</td>\n",
              "      <td>0.000183</td>\n",
              "      <td>0.00419</td>\n",
              "      <td>0.000046</td>\n",
              "      <td>0.00149</td>\n",
              "      <td>0.00268</td>\n",
              "      <td>0.00446</td>\n",
              "      <td>0.05451</td>\n",
              "      <td>0.527</td>\n",
              "      <td>0.02395</td>\n",
              "      <td>0.02857</td>\n",
              "      <td>0.04462</td>\n",
              "      <td>0.07185</td>\n",
              "      <td>0.968343</td>\n",
              "      <td>0.042003</td>\n",
              "      <td>19.865</td>\n",
              "      <td>76.306989</td>\n",
              "      <td>81.000749</td>\n",
              "      <td>79.190593</td>\n",
              "      <td>819.529588</td>\n",
              "      <td>1201.813897</td>\n",
              "      <td>3154.035654</td>\n",
              "      <td>4122.163933</td>\n",
              "      <td>238.667052</td>\n",
              "      <td>191.984916</td>\n",
              "      <td>573.752909</td>\n",
              "      <td>526.147599</td>\n",
              "      <td>0.98548</td>\n",
              "      <td>139.5744</td>\n",
              "      <td>1.6961</td>\n",
              "      <td>0.83405</td>\n",
              "      <td>0.17295</td>\n",
              "      <td>0.147370</td>\n",
              "      <td>...</td>\n",
              "      <td>-0.367170</td>\n",
              "      <td>0.366920</td>\n",
              "      <td>-0.492650</td>\n",
              "      <td>0.19164</td>\n",
              "      <td>591.0116</td>\n",
              "      <td>65.3827</td>\n",
              "      <td>53.9852</td>\n",
              "      <td>45.4458</td>\n",
              "      <td>34.6650</td>\n",
              "      <td>88.3259</td>\n",
              "      <td>46.6869</td>\n",
              "      <td>23.2911</td>\n",
              "      <td>19.2022</td>\n",
              "      <td>42.3957</td>\n",
              "      <td>100.3649</td>\n",
              "      <td>7.1967</td>\n",
              "      <td>6.3892</td>\n",
              "      <td>6.5496</td>\n",
              "      <td>6.0264</td>\n",
              "      <td>4.7656</td>\n",
              "      <td>4.8909</td>\n",
              "      <td>4.2531</td>\n",
              "      <td>3.0295</td>\n",
              "      <td>2.0362</td>\n",
              "      <td>1.8478</td>\n",
              "      <td>2.5776</td>\n",
              "      <td>2.2064</td>\n",
              "      <td>1.9491</td>\n",
              "      <td>1.9120</td>\n",
              "      <td>1.8829</td>\n",
              "      <td>6.9761</td>\n",
              "      <td>3.7805</td>\n",
              "      <td>3.5664</td>\n",
              "      <td>5.2558</td>\n",
              "      <td>14.0403</td>\n",
              "      <td>4.2235</td>\n",
              "      <td>4.6857</td>\n",
              "      <td>4.8460</td>\n",
              "      <td>6.2650</td>\n",
              "      <td>4.0603</td>\n",
              "    </tr>\n",
              "    <tr>\n",
              "      <th>4</th>\n",
              "      <td>1</td>\n",
              "      <td>0</td>\n",
              "      <td>0.32790</td>\n",
              "      <td>0.79782</td>\n",
              "      <td>0.53028</td>\n",
              "      <td>236</td>\n",
              "      <td>235</td>\n",
              "      <td>0.008162</td>\n",
              "      <td>0.002669</td>\n",
              "      <td>0.00535</td>\n",
              "      <td>0.000044</td>\n",
              "      <td>0.00166</td>\n",
              "      <td>0.00227</td>\n",
              "      <td>0.00499</td>\n",
              "      <td>0.05610</td>\n",
              "      <td>0.497</td>\n",
              "      <td>0.02909</td>\n",
              "      <td>0.03327</td>\n",
              "      <td>0.05278</td>\n",
              "      <td>0.08728</td>\n",
              "      <td>0.975754</td>\n",
              "      <td>0.027139</td>\n",
              "      <td>19.557</td>\n",
              "      <td>76.645686</td>\n",
              "      <td>80.937258</td>\n",
              "      <td>79.183495</td>\n",
              "      <td>846.796144</td>\n",
              "      <td>1215.346469</td>\n",
              "      <td>3201.513132</td>\n",
              "      <td>4085.456839</td>\n",
              "      <td>402.216738</td>\n",
              "      <td>210.061394</td>\n",
              "      <td>203.637106</td>\n",
              "      <td>384.611697</td>\n",
              "      <td>0.97847</td>\n",
              "      <td>102.0549</td>\n",
              "      <td>15.4045</td>\n",
              "      <td>0.83556</td>\n",
              "      <td>0.16210</td>\n",
              "      <td>0.151990</td>\n",
              "      <td>...</td>\n",
              "      <td>-0.071687</td>\n",
              "      <td>-0.378360</td>\n",
              "      <td>-0.035805</td>\n",
              "      <td>0.26596</td>\n",
              "      <td>32.0393</td>\n",
              "      <td>7.2343</td>\n",
              "      <td>6.5540</td>\n",
              "      <td>6.4520</td>\n",
              "      <td>6.9274</td>\n",
              "      <td>10.2265</td>\n",
              "      <td>14.2579</td>\n",
              "      <td>10.6181</td>\n",
              "      <td>8.6143</td>\n",
              "      <td>9.5822</td>\n",
              "      <td>34.0835</td>\n",
              "      <td>4.1139</td>\n",
              "      <td>3.6718</td>\n",
              "      <td>4.4360</td>\n",
              "      <td>4.5793</td>\n",
              "      <td>3.9447</td>\n",
              "      <td>4.1253</td>\n",
              "      <td>3.4869</td>\n",
              "      <td>2.4627</td>\n",
              "      <td>2.1073</td>\n",
              "      <td>1.9056</td>\n",
              "      <td>2.2214</td>\n",
              "      <td>2.0588</td>\n",
              "      <td>1.8157</td>\n",
              "      <td>1.7577</td>\n",
              "      <td>1.8821</td>\n",
              "      <td>7.8832</td>\n",
              "      <td>6.1727</td>\n",
              "      <td>5.8416</td>\n",
              "      <td>6.0805</td>\n",
              "      <td>5.7621</td>\n",
              "      <td>7.7817</td>\n",
              "      <td>11.6891</td>\n",
              "      <td>8.2103</td>\n",
              "      <td>5.0559</td>\n",
              "      <td>6.1164</td>\n",
              "    </tr>\n",
              "  </tbody>\n",
              "</table>\n",
              "<p>5 rows × 754 columns</p>\n",
              "</div>"
            ],
            "text/plain": [
              "   id  gender  ...  tqwt_kurtosisValue_dec_35  tqwt_kurtosisValue_dec_36\n",
              "0   0       1  ...                     3.0004                    18.9405\n",
              "1   0       1  ...                     6.3431                    45.1780\n",
              "2   0       1  ...                     3.1495                     4.7666\n",
              "3   1       0  ...                     6.2650                     4.0603\n",
              "4   1       0  ...                     5.0559                     6.1164\n",
              "\n",
              "[5 rows x 754 columns]"
            ]
          },
          "metadata": {
            "tags": []
          },
          "execution_count": 123
        }
      ]
    },
    {
      "cell_type": "code",
      "metadata": {
        "colab": {
          "base_uri": "https://localhost:8080/"
        },
        "id": "r6oFwngXGp7O",
        "outputId": "fc362d09-298d-4672-89fd-b900137bbfd3"
      },
      "source": [
        "#normalization\n",
        "x = MinMaxScaler(feature_range=(0, 1)).fit_transform(x)\n",
        "x.shape"
      ],
      "execution_count": null,
      "outputs": [
        {
          "output_type": "execute_result",
          "data": {
            "text/plain": [
              "(756, 754)"
            ]
          },
          "metadata": {
            "tags": []
          },
          "execution_count": 124
        }
      ]
    },
    {
      "cell_type": "code",
      "metadata": {
        "colab": {
          "base_uri": "https://localhost:8080/"
        },
        "id": "Qizr_gZAGp7S",
        "outputId": "33a8a06d-730e-4da3-f06d-f43ceaa9c866"
      },
      "source": [
        "#PCA with whitening\n",
        "pca_w = PCA(whiten=True, n_components=350).fit(x)\n",
        "x_pca_w =  pca_w.transform(x)\n",
        "x_pca_w.shape"
      ],
      "execution_count": null,
      "outputs": [
        {
          "output_type": "execute_result",
          "data": {
            "text/plain": [
              "(756, 350)"
            ]
          },
          "metadata": {
            "tags": []
          },
          "execution_count": 125
        }
      ]
    },
    {
      "cell_type": "code",
      "metadata": {
        "colab": {
          "base_uri": "https://localhost:8080/",
          "height": 333
        },
        "id": "najmHarqGp7V",
        "outputId": "f4e06c10-249c-4289-cb77-760f0b8894a4"
      },
      "source": [
        "f, ax = plt.subplots(figsize=(10,5))\n",
        "plt.plot(np.cumsum(pca_w.explained_variance_ratio_))\n",
        "plt.xlabel('number of components')\n",
        "plt.ylabel('cumulative explained variance');"
      ],
      "execution_count": null,
      "outputs": [
        {
          "output_type": "display_data",
          "data": {
            "image/png": "[encoded data removed]",
            "text/plain": [
              "<Figure size 720x360 with 1 Axes>"
            ]
          },
          "metadata": {
            "tags": [],
            "needs_background": "light"
          }
        }
      ]
    },
    {
      "cell_type": "code",
      "metadata": {
        "colab": {
          "base_uri": "https://localhost:8080/"
        },
        "id": "YlaFTkZdGp7Y",
        "outputId": "47277b5c-9175-4db3-8ad6-4f0f15748fa8"
      },
      "source": [
        "#LDA after PCA\n",
        "lda = LDA()\n",
        "x_pca_w_lda = lda.fit_transform(x_pca_w, y)\n",
        "x_pca_w_lda.shape"
      ],
      "execution_count": null,
      "outputs": [
        {
          "output_type": "execute_result",
          "data": {
            "text/plain": [
              "(756, 1)"
            ]
          },
          "metadata": {
            "tags": []
          },
          "execution_count": 127
        }
      ]
    },
    {
      "cell_type": "code",
      "metadata": {
        "id": "E1X9vQklGp7b"
      },
      "source": [
        "x_train,x_test,y_train,y_test = train_test_split(x_pca_w_lda,y,test_size=0.3,random_state=42)"
      ],
      "execution_count": null,
      "outputs": []
    },
    {
      "cell_type": "code",
      "metadata": {
        "id": "wp0UnMbLGp7d"
      },
      "source": [
        "def plot_confusion_matrix(cm, classes,\n",
        "                          normalize=False,\n",
        "                          title='Confusion matrix',\n",
        "                          cmap=plt.cm.Blues):\n",
        "\n",
        "    plt.figure(figsize = (5,5))\n",
        "    plt.imshow(cm, interpolation='nearest', cmap=cmap)\n",
        "    plt.title(title)\n",
        "    plt.colorbar()\n",
        "    tick_marks = np.arange(len(classes))\n",
        "    plt.xticks(tick_marks, classes, rotation=90)\n",
        "    plt.yticks(tick_marks, classes)\n",
        "    if normalize:\n",
        "        cm = cm.astype('float') / cm.sum(axis=1)[:, np.newaxis]\n",
        "\n",
        "    thresh = cm.max() / 2.\n",
        "    for i, j in itertools.product(range(cm.shape[0]), range(cm.shape[1])):\n",
        "        plt.text(j, i, cm[i, j],\n",
        "                 horizontalalignment=\"center\",\n",
        "                 color=\"white\" if cm[i, j] > thresh else \"black\")\n",
        "    plt.tight_layout()\n",
        "    plt.ylabel('True label')\n",
        "    plt.xlabel('Predicted label')\n",
        "\n",
        "\n",
        "def result(test, label, model, flag_mlp):\n",
        "    \n",
        "    if flag_mlp:\n",
        "        predicted = np.argmax(model.predict(test), axis=1)\n",
        "    else:\n",
        "        predicted= model.predict(test) \n",
        "        \n",
        "    print('F1 score: ', f1_score(label, predicted, average='macro'))\n",
        "    conf_mat = confusion_matrix(label, predicted)\n",
        "    print('Confusion Matrix:')\n",
        "    plot_confusion_matrix(conf_mat, ['Healthy', 'Sick'])\n"
      ],
      "execution_count": null,
      "outputs": []
    },
    {
      "cell_type": "markdown",
      "metadata": {
        "id": "rbDL3reZGp7p"
      },
      "source": [
        "## KNN"
      ]
    },
    {
      "cell_type": "markdown",
      "metadata": {
        "id": "X472oTgwGp7s"
      },
      "source": [
        "### with PCA and LDA"
      ]
    },
    {
      "cell_type": "code",
      "metadata": {
        "id": "HDwRYSGvlnm1"
      },
      "source": [
        "x_train,x_test,y_train,y_test = train_test_split(x_pca_w_lda,y,test_size=0.3,random_state=42)"
      ],
      "execution_count": null,
      "outputs": []
    },
    {
      "cell_type": "code",
      "metadata": {
        "colab": {
          "base_uri": "https://localhost:8080/"
        },
        "id": "QUyKnTT3Gp7y",
        "outputId": "a3de9eb6-addf-4880-fc79-2f369ec0745d"
      },
      "source": [
        "from sklearn.neighbors import KNeighborsClassifier\n",
        "from sklearn.metrics import f1_score\n",
        "from sklearn.metrics import confusion_matrix\n",
        "\n",
        "knn_model = KNeighborsClassifier(n_neighbors=5)\n",
        "knn_model.fit(x_train,y_train)\n",
        "result(x_test, y_test, knn_model, False)"
      ],
      "execution_count": null,
      "outputs": [
        {
          "output_type": "execute_result",
          "data": {
            "text/plain": [
              "KNeighborsClassifier(algorithm='auto', leaf_size=30, metric='minkowski',\n",
              "                     metric_params=None, n_jobs=None, n_neighbors=5, p=2,\n",
              "                     weights='uniform')"
            ]
          },
          "metadata": {
            "tags": []
          },
          "execution_count": 131
        }
      ]
    },
    {
      "cell_type": "code",
      "metadata": {
        "colab": {
          "base_uri": "https://localhost:8080/",
          "height": 400
        },
        "id": "OYVZAsyoGp71",
        "outputId": "4b094c41-4589-48fd-e6eb-a298b3521eda"
      },
      "source": [
        "result(x_test, y_test, knn_model, False)"
      ],
      "execution_count": null,
      "outputs": [
        {
          "output_type": "stream",
          "text": [
            "F1 score:  0.9373636021572808\n",
            "Confusion Matrix:\n"
          ],
          "name": "stdout"
        },
        {
          "output_type": "display_data",
          "data": {
            "image/png": "[encoded data removed]",
            "text/plain": [
              "<Figure size 360x360 with 2 Axes>"
            ]
          },
          "metadata": {
            "tags": [],
            "needs_background": "light"
          }
        }
      ]
    },
    {
      "cell_type": "markdown",
      "metadata": {
        "id": "rZvyg4jWGp73"
      },
      "source": [
        "### with PCA"
      ]
    },
    {
      "cell_type": "code",
      "metadata": {
        "id": "Yp0CQGJFGp74"
      },
      "source": [
        "x_train,x_test,y_train,y_test = train_test_split(x_pca_w,y,test_size=0.3,random_state=42)"
      ],
      "execution_count": null,
      "outputs": []
    },
    {
      "cell_type": "code",
      "metadata": {
        "colab": {
          "base_uri": "https://localhost:8080/"
        },
        "id": "o-ftK0RIGp76",
        "outputId": "cc61d025-a19a-48c6-e936-0668aa04cc64"
      },
      "source": [
        "from sklearn.neighbors import KNeighborsClassifier\n",
        "from sklearn.metrics import f1_score\n",
        "from sklearn.metrics import confusion_matrix\n",
        "\n",
        "knn_model = KNeighborsClassifier(n_neighbors=5)\n",
        "knn_model.fit(x_train,y_train)"
      ],
      "execution_count": null,
      "outputs": [
        {
          "output_type": "execute_result",
          "data": {
            "text/plain": [
              "KNeighborsClassifier(algorithm='auto', leaf_size=30, metric='minkowski',\n",
              "                     metric_params=None, n_jobs=None, n_neighbors=5, p=2,\n",
              "                     weights='uniform')"
            ]
          },
          "metadata": {
            "tags": []
          },
          "execution_count": 134
        }
      ]
    },
    {
      "cell_type": "code",
      "metadata": {
        "colab": {
          "base_uri": "https://localhost:8080/"
        },
        "id": "9ijqcD9RGp78",
        "outputId": "6fe1a6fb-699e-45c4-fb71-3803a690d6ef"
      },
      "source": [
        "result(x_test, y_test, knn_model, False)"
      ],
      "execution_count": null,
      "outputs": [
        {
          "output_type": "stream",
          "text": [
            "F1 score:  0.43959842001316657\n",
            "Confusion Matrix:\n"
          ],
          "name": "stdout"
        },
        {
          "output_type": "display_data",
          "data": {
            "image/png": "[encoded data removed]",
            "text/plain": [
              "<Figure size 360x360 with 2 Axes>"
            ]
          },
          "metadata": {
            "tags": [],
            "needs_background": "light"
          }
        }
      ]
    },
    {
      "cell_type": "markdown",
      "metadata": {
        "id": "65AFk8EsNDMb"
      },
      "source": [
        "### Real Data"
      ]
    },
    {
      "cell_type": "code",
      "metadata": {
        "id": "lxVMDEoUM_II"
      },
      "source": [
        "x_train,x_test,y_train,y_test = train_test_split(x,y,test_size=0.3,random_state=10)"
      ],
      "execution_count": null,
      "outputs": []
    },
    {
      "cell_type": "code",
      "metadata": {
        "colab": {
          "base_uri": "https://localhost:8080/"
        },
        "id": "Q33Pl3CflnnG",
        "outputId": "9c210ca7-0eda-4626-e51c-c2a01c2827bd"
      },
      "source": [
        "from sklearn.neighbors import KNeighborsClassifier\n",
        "from sklearn.metrics import f1_score\n",
        "from sklearn.metrics import confusion_matrix\n",
        "\n",
        "knn_model = KNeighborsClassifier(n_neighbors=5)\n",
        "knn_model.fit(x_train,y_train)"
      ],
      "execution_count": null,
      "outputs": [
        {
          "output_type": "execute_result",
          "data": {
            "text/plain": [
              "KNeighborsClassifier(algorithm='auto', leaf_size=30, metric='minkowski',\n",
              "                     metric_params=None, n_jobs=None, n_neighbors=5, p=2,\n",
              "                     weights='uniform')"
            ]
          },
          "metadata": {
            "tags": []
          },
          "execution_count": 137
        }
      ]
    },
    {
      "cell_type": "code",
      "metadata": {
        "colab": {
          "base_uri": "https://localhost:8080/"
        },
        "id": "75erRHbHlnnI",
        "outputId": "05364faa-2741-440f-f62b-61ab5e9edff6"
      },
      "source": [
        "result(x_test, y_test, knn_model, False)"
      ],
      "execution_count": null,
      "outputs": [
        {
          "output_type": "stream",
          "text": [
            "F1 score:  0.737065637065637\n",
            "Confusion Matrix:\n"
          ],
          "name": "stdout"
        },
        {
          "output_type": "display_data",
          "data": {
            "image/png": "[encoded data removed]",
            "text/plain": [
              "<Figure size 360x360 with 2 Axes>"
            ]
          },
          "metadata": {
            "tags": [],
            "needs_background": "light"
          }
        }
      ]
    },
    {
      "cell_type": "markdown",
      "metadata": {
        "id": "KizMNJRhGp7-"
      },
      "source": [
        "## Decision Tree"
      ]
    },
    {
      "cell_type": "markdown",
      "metadata": {
        "id": "BEhJyWbpGp7_"
      },
      "source": [
        "### with PCA and LDA"
      ]
    },
    {
      "cell_type": "code",
      "metadata": {
        "id": "hZ8aanvalnnM"
      },
      "source": [
        "x_train,x_test,y_train,y_test = train_test_split(x_pca_w_lda,y,test_size=0.3,random_state=42)"
      ],
      "execution_count": null,
      "outputs": []
    },
    {
      "cell_type": "code",
      "metadata": {
        "colab": {
          "base_uri": "https://localhost:8080/"
        },
        "id": "jWzGx9BQGp8B",
        "scrolled": true,
        "outputId": "be6d39e0-4d60-4af9-9d6f-1e2e9e668c8a"
      },
      "source": [
        "from sklearn import tree\n",
        "\n",
        "tree_model = tree.DecisionTreeClassifier()\n",
        "tree_model = tree_model.fit(x_train, y_train)\n",
        "result(x_test, y_test, tree_model, False)"
      ],
      "execution_count": null,
      "outputs": [
        {
          "output_type": "stream",
          "text": [
            "F1 score:  0.9259751661858774\n",
            "Confusion Matrix:\n"
          ],
          "name": "stdout"
        },
        {
          "output_type": "display_data",
          "data": {
            "image/png": "[encoded data removed]",
            "text/plain": [
              "<Figure size 360x360 with 2 Axes>"
            ]
          },
          "metadata": {
            "tags": [],
            "needs_background": "light"
          }
        }
      ]
    },
    {
      "cell_type": "markdown",
      "metadata": {
        "id": "kN6TYRakGp8D"
      },
      "source": [
        "### with PCA"
      ]
    },
    {
      "cell_type": "code",
      "metadata": {
        "id": "C4EK3m-OGp8E"
      },
      "source": [
        "x_train,x_test,y_train,y_test = train_test_split(x_pca_w,y,test_size=0.3,random_state=42)"
      ],
      "execution_count": null,
      "outputs": []
    },
    {
      "cell_type": "code",
      "metadata": {
        "colab": {
          "base_uri": "https://localhost:8080/"
        },
        "id": "I4l_Bfe6Gp8G",
        "outputId": "f249d99d-a08f-4f3b-9efa-23571dbb1d8e"
      },
      "source": [
        "from sklearn import tree\n",
        "\n",
        "tree_model = tree.DecisionTreeClassifier()\n",
        "tree_model = tree_model.fit(x_train, y_train)\n",
        "result(x_test, y_test, tree_model, False)"
      ],
      "execution_count": null,
      "outputs": [
        {
          "output_type": "stream",
          "text": [
            "F1 score:  0.5947255662109774\n",
            "Confusion Matrix:\n"
          ],
          "name": "stdout"
        },
        {
          "output_type": "display_data",
          "data": {
            "image/png": "[encoded data removed]",
            "text/plain": [
              "<Figure size 360x360 with 2 Axes>"
            ]
          },
          "metadata": {
            "tags": [],
            "needs_background": "light"
          }
        }
      ]
    },
    {
      "cell_type": "markdown",
      "metadata": {
        "id": "KIp5tZr5lnnU"
      },
      "source": [
        "### Real Data"
      ]
    },
    {
      "cell_type": "code",
      "metadata": {
        "id": "buUV3ssLlnnV"
      },
      "source": [
        "x_train,x_test,y_train,y_test = train_test_split(x,y,test_size=0.3,random_state=10)"
      ],
      "execution_count": null,
      "outputs": []
    },
    {
      "cell_type": "code",
      "metadata": {
        "colab": {
          "base_uri": "https://localhost:8080/"
        },
        "id": "DJBCwkNrlnnW",
        "outputId": "4174c0f9-4047-4353-c578-d0457fcc6b8c"
      },
      "source": [
        "from sklearn import tree\n",
        "\n",
        "tree_model = tree.DecisionTreeClassifier()\n",
        "tree_model = tree_model.fit(x_train, y_train)\n",
        "result(x_test, y_test, tree_model, False)"
      ],
      "execution_count": null,
      "outputs": [
        {
          "output_type": "stream",
          "text": [
            "F1 score:  0.6800691397420555\n",
            "Confusion Matrix:\n"
          ],
          "name": "stdout"
        },
        {
          "output_type": "display_data",
          "data": {
            "image/png": "[encoded data removed]",
            "text/plain": [
              "<Figure size 360x360 with 2 Axes>"
            ]
          },
          "metadata": {
            "tags": [],
            "needs_background": "light"
          }
        }
      ]
    },
    {
      "cell_type": "markdown",
      "metadata": {
        "id": "uGx-AeHKGp8I"
      },
      "source": [
        "## SVM"
      ]
    },
    {
      "cell_type": "markdown",
      "metadata": {
        "id": "sm1gYHuuGp8J"
      },
      "source": [
        "### with PCA and LDA"
      ]
    },
    {
      "cell_type": "code",
      "metadata": {
        "id": "49FD2RFjlnna"
      },
      "source": [
        "x_train,x_test,y_train,y_test = train_test_split(x_pca_w_lda,y,test_size=0.3,random_state=42)"
      ],
      "execution_count": null,
      "outputs": []
    },
    {
      "cell_type": "code",
      "metadata": {
        "colab": {
          "base_uri": "https://localhost:8080/"
        },
        "id": "KCrpGXuyGp8K",
        "outputId": "7600b777-1dd9-4a9d-bda7-199c166b9724"
      },
      "source": [
        "from sklearn import svm\n",
        "\n",
        "svm_model = svm.SVC(kernel='linear', decision_function_shape='ovr')\n",
        "svm_model = svm_model.fit(x_train, y_train)\n",
        "result(x_test, y_test, svm_model, False)"
      ],
      "execution_count": null,
      "outputs": [
        {
          "output_type": "stream",
          "text": [
            "F1 score:  0.9546906187624751\n",
            "Confusion Matrix:\n"
          ],
          "name": "stdout"
        },
        {
          "output_type": "display_data",
          "data": {
            "image/png": "[encoded data removed]",
            "text/plain": [
              "<Figure size 360x360 with 2 Axes>"
            ]
          },
          "metadata": {
            "tags": [],
            "needs_background": "light"
          }
        }
      ]
    },
    {
      "cell_type": "markdown",
      "metadata": {
        "id": "7P3qBAoMGp8N"
      },
      "source": [
        "### with PCA"
      ]
    },
    {
      "cell_type": "code",
      "metadata": {
        "id": "_vM-oYyFGp8O"
      },
      "source": [
        "x_train,x_test,y_train,y_test = train_test_split(x_pca_w,y,test_size=0.3,random_state=42)"
      ],
      "execution_count": null,
      "outputs": []
    },
    {
      "cell_type": "code",
      "metadata": {
        "colab": {
          "base_uri": "https://localhost:8080/"
        },
        "id": "zudC4Wl5Gp8P",
        "outputId": "93a270b5-5915-40ba-986b-754b6a7f73f1"
      },
      "source": [
        "from sklearn import svm\n",
        "\n",
        "svm_model = svm.SVC(kernel='linear', decision_function_shape='ovr')\n",
        "svm_model = svm_model.fit(x_train, y_train)\n",
        "result(x_test, y_test, svm_model, False)"
      ],
      "execution_count": null,
      "outputs": [
        {
          "output_type": "stream",
          "text": [
            "F1 score:  0.820031712473573\n",
            "Confusion Matrix:\n"
          ],
          "name": "stdout"
        },
        {
          "output_type": "display_data",
          "data": {
            "image/png": "[encoded data removed]",
            "text/plain": [
              "<Figure size 360x360 with 2 Axes>"
            ]
          },
          "metadata": {
            "tags": [],
            "needs_background": "light"
          }
        }
      ]
    },
    {
      "cell_type": "markdown",
      "metadata": {
        "id": "Ft63tJctlnnk"
      },
      "source": [
        "### Real Data"
      ]
    },
    {
      "cell_type": "code",
      "metadata": {
        "id": "sS5bNO20lnnl"
      },
      "source": [
        "x_train,x_test,y_train,y_test = train_test_split(x,y,test_size=0.3,random_state=10)"
      ],
      "execution_count": null,
      "outputs": []
    },
    {
      "cell_type": "code",
      "metadata": {
        "colab": {
          "base_uri": "https://localhost:8080/"
        },
        "id": "yVP4vrPElnnm",
        "outputId": "c7f439e4-ddc8-44a4-d6f6-99b10b8304e0"
      },
      "source": [
        "from sklearn import svm\n",
        "\n",
        "svm_model = svm.SVC(kernel='linear', decision_function_shape='ovr')\n",
        "svm_model = svm_model.fit(x_train, y_train)\n",
        "result(x_test, y_test, svm_model, False)"
      ],
      "execution_count": null,
      "outputs": [
        {
          "output_type": "stream",
          "text": [
            "F1 score:  0.7644078144078144\n",
            "Confusion Matrix:\n"
          ],
          "name": "stdout"
        },
        {
          "output_type": "display_data",
          "data": {
            "image/png": "[encoded data removed]",
            "text/plain": [
              "<Figure size 360x360 with 2 Axes>"
            ]
          },
          "metadata": {
            "tags": [],
            "needs_background": "light"
          }
        }
      ]
    },
    {
      "cell_type": "markdown",
      "metadata": {
        "id": "3U1wcmunGp8S"
      },
      "source": [
        "## Bayes Classifier with Parzen Estimation"
      ]
    },
    {
      "cell_type": "code",
      "metadata": {
        "id": "MrMZfntfGp8V"
      },
      "source": [
        "from sklearn.base import BaseEstimator, ClassifierMixin\n",
        "from sklearn.neighbors import KernelDensity\n",
        "\n",
        "\n",
        "class KDEClassifier(BaseEstimator, ClassifierMixin):\n",
        "    \"\"\"Bayesian generative classification based on KDE\n",
        "    \n",
        "    Parameters\n",
        "    ----------\n",
        "    bandwidth : float\n",
        "        the kernel bandwidth within each class\n",
        "    kernel : str\n",
        "        the kernel name, passed to KernelDensity\n",
        "    \"\"\"\n",
        "    def __init__(self, bandwidth=1, kernel='gaussian'):\n",
        "        self.bandwidth = bandwidth\n",
        "        self.kernel = kernel\n",
        "        \n",
        "    def fit(self, X, y):\n",
        "        self.classes_ = np.sort(np.unique(y))\n",
        "        training_sets = [X[y == yi] for yi in self.classes_]\n",
        "        self.models_ = [KernelDensity(bandwidth=self.bandwidth,\n",
        "                                      kernel=self.kernel).fit(Xi)\n",
        "                        for Xi in training_sets]\n",
        "        self.logpriors_ = [np.log(Xi.shape[0] / X.shape[0])\n",
        "                           for Xi in training_sets]\n",
        "        return self\n",
        "        \n",
        "    def predict_proba(self, X):\n",
        "        logprobs = np.array([model.score_samples(X)\n",
        "                             for model in self.models_]).T\n",
        "        result = np.exp(logprobs + self.logpriors_)\n",
        "        return result / result.sum(1, keepdims=True)\n",
        "        \n",
        "    def predict(self, X):\n",
        "        return self.classes_[np.argmax(self.predict_proba(X), 1)]\n"
      ],
      "execution_count": null,
      "outputs": []
    },
    {
      "cell_type": "markdown",
      "metadata": {
        "id": "USDa37fsGp8Y"
      },
      "source": [
        "### with PCA and LDA"
      ]
    },
    {
      "cell_type": "code",
      "metadata": {
        "id": "9EDMIEdtlnnt"
      },
      "source": [
        "x_train,x_test,y_train,y_test = train_test_split(x_pca_w_lda,y,test_size=0.3,random_state=42)"
      ],
      "execution_count": null,
      "outputs": []
    },
    {
      "cell_type": "code",
      "metadata": {
        "colab": {
          "base_uri": "https://localhost:8080/"
        },
        "id": "ycLmrSugGp8a",
        "outputId": "ab239d71-0bcc-424c-f19d-ccbde537349a"
      },
      "source": [
        "parzen_kde_model = KDEClassifier()\n",
        "parzen_kde_model = parzen_kde_model.fit(x_train, y_train)\n",
        "result(x_test, y_test, parzen_kde_model, False)"
      ],
      "execution_count": null,
      "outputs": [
        {
          "output_type": "stream",
          "text": [
            "F1 score:  0.9592407336154931\n",
            "Confusion Matrix:\n"
          ],
          "name": "stdout"
        },
        {
          "output_type": "display_data",
          "data": {
            "image/png": "[encoded data removed]",
            "text/plain": [
              "<Figure size 360x360 with 2 Axes>"
            ]
          },
          "metadata": {
            "tags": [],
            "needs_background": "light"
          }
        }
      ]
    },
    {
      "cell_type": "markdown",
      "metadata": {
        "id": "imYdz4ohGp8c"
      },
      "source": [
        "### with PCA"
      ]
    },
    {
      "cell_type": "code",
      "metadata": {
        "id": "vXl40sf-Gp8d"
      },
      "source": [
        "x_train,x_test,y_train,y_test = train_test_split(x_pca_w,y,test_size=0.3,random_state=42)"
      ],
      "execution_count": null,
      "outputs": []
    },
    {
      "cell_type": "code",
      "metadata": {
        "colab": {
          "base_uri": "https://localhost:8080/"
        },
        "id": "Ire4vdcyGp8f",
        "outputId": "aff76717-467c-4b6e-c209-b6bafa880962"
      },
      "source": [
        "parzen_kde_model = KDEClassifier()\n",
        "parzen_kde_model = parzen_kde_model.fit(x_train, y_train)\n",
        "result(x_test, y_test, parzen_kde_model, False)"
      ],
      "execution_count": null,
      "outputs": [
        {
          "output_type": "stream",
          "text": [
            "/usr/local/lib/python3.6/dist-packages/ipykernel_launcher.py:33: RuntimeWarning: invalid value encountered in true_divide\n"
          ],
          "name": "stderr"
        },
        {
          "output_type": "stream",
          "text": [
            "F1 score:  0.5849638422704325\n",
            "Confusion Matrix:\n"
          ],
          "name": "stdout"
        },
        {
          "output_type": "display_data",
          "data": {
            "image/png": "[encoded data removed]",
            "text/plain": [
              "<Figure size 360x360 with 2 Axes>"
            ]
          },
          "metadata": {
            "tags": [],
            "needs_background": "light"
          }
        }
      ]
    },
    {
      "cell_type": "markdown",
      "metadata": {
        "id": "hT1X0YUrlnn1"
      },
      "source": [
        "### Real Data"
      ]
    },
    {
      "cell_type": "code",
      "metadata": {
        "id": "CRPZHLXzlnn2"
      },
      "source": [
        "x_train,x_test,y_train,y_test = train_test_split(x,y,test_size=0.3,random_state=10)"
      ],
      "execution_count": null,
      "outputs": []
    },
    {
      "cell_type": "code",
      "metadata": {
        "colab": {
          "base_uri": "https://localhost:8080/"
        },
        "id": "eQxlwJVXlnn3",
        "outputId": "976d3fb8-e6a1-4b42-a847-a8ba43b33ef0"
      },
      "source": [
        "parzen_kde_model = KDEClassifier()\n",
        "parzen_kde_model = parzen_kde_model.fit(x_train, y_train)\n",
        "result(x_test, y_test, parzen_kde_model, False)"
      ],
      "execution_count": null,
      "outputs": [
        {
          "output_type": "stream",
          "text": [
            "F1 score:  0.6911337476556466\n",
            "Confusion Matrix:\n"
          ],
          "name": "stdout"
        },
        {
          "output_type": "display_data",
          "data": {
            "image/png": "[encoded data removed]",
            "text/plain": [
              "<Figure size 360x360 with 2 Axes>"
            ]
          },
          "metadata": {
            "tags": [],
            "needs_background": "light"
          }
        }
      ]
    },
    {
      "cell_type": "markdown",
      "metadata": {
        "id": "-eO2j2m7Gp8i"
      },
      "source": [
        "## MLP"
      ]
    },
    {
      "cell_type": "markdown",
      "metadata": {
        "id": "Cta0kwFmlnn_"
      },
      "source": [
        "### with PCA and LDA"
      ]
    },
    {
      "cell_type": "code",
      "metadata": {
        "id": "NyFl3PbUlnoA"
      },
      "source": [
        "x_train,x_test,y_train,y_test = train_test_split(x_pca_w_lda,y,test_size=0.3,random_state=42)"
      ],
      "execution_count": null,
      "outputs": []
    },
    {
      "cell_type": "code",
      "metadata": {
        "id": "Zeujf173lnoC"
      },
      "source": [
        "from tensorflow.keras.utils import to_categorical\n",
        "y_train_ = to_categorical(y_train)"
      ],
      "execution_count": null,
      "outputs": []
    },
    {
      "cell_type": "code",
      "metadata": {
        "id": "KUrZw87CGp8j"
      },
      "source": [
        "from keras.models import Sequential\n",
        "from keras.layers import Dense\n",
        "\n",
        "input_shape = x_train[0].shape\n",
        "\n",
        "model = Sequential()\n",
        "model.add(Dense(100, input_shape=input_shape, activation='relu'))\n",
        "model.add(Dense(2, activation='softmax'))"
      ],
      "execution_count": null,
      "outputs": []
    },
    {
      "cell_type": "code",
      "metadata": {
        "colab": {
          "base_uri": "https://localhost:8080/"
        },
        "id": "N3Bf_vfCGp8n",
        "outputId": "c0f20664-d172-4a53-cbf1-1c3d6b4b3116"
      },
      "source": [
        "# Configure the model and start training\n",
        "model.compile(loss='categorical_crossentropy', optimizer='adam', metrics=['accuracy'])\n",
        "model.fit(x_train, y_train_, epochs=20, batch_size=250, verbose=1, validation_split=0.2)"
      ],
      "execution_count": null,
      "outputs": [
        {
          "output_type": "stream",
          "text": [
            "Epoch 1/20\n",
            "2/2 [==============================] - 0s 173ms/step - loss: 0.8122 - accuracy: 0.7495 - val_loss: 0.7478 - val_accuracy: 0.7830\n",
            "Epoch 2/20\n",
            "2/2 [==============================] - 0s 36ms/step - loss: 0.7659 - accuracy: 0.7442 - val_loss: 0.7051 - val_accuracy: 0.7547\n",
            "Epoch 3/20\n",
            "2/2 [==============================] - 0s 48ms/step - loss: 0.7215 - accuracy: 0.7363 - val_loss: 0.6646 - val_accuracy: 0.7547\n",
            "Epoch 4/20\n",
            "2/2 [==============================] - 0s 41ms/step - loss: 0.6788 - accuracy: 0.7194 - val_loss: 0.6264 - val_accuracy: 0.7642\n",
            "Epoch 5/20\n",
            "2/2 [==============================] - 0s 38ms/step - loss: 0.6389 - accuracy: 0.7032 - val_loss: 0.5907 - val_accuracy: 0.7170\n",
            "Epoch 6/20\n",
            "2/2 [==============================] - 0s 45ms/step - loss: 0.6017 - accuracy: 0.6824 - val_loss: 0.5575 - val_accuracy: 0.7264\n",
            "Epoch 7/20\n",
            "2/2 [==============================] - 0s 45ms/step - loss: 0.5617 - accuracy: 0.6988 - val_loss: 0.5268 - val_accuracy: 0.9057\n",
            "Epoch 8/20\n",
            "2/2 [==============================] - 0s 35ms/step - loss: 0.5267 - accuracy: 0.9195 - val_loss: 0.4986 - val_accuracy: 0.9057\n",
            "Epoch 9/20\n",
            "2/2 [==============================] - 0s 34ms/step - loss: 0.4968 - accuracy: 0.9195 - val_loss: 0.4728 - val_accuracy: 0.9057\n",
            "Epoch 10/20\n",
            "2/2 [==============================] - 0s 34ms/step - loss: 0.4685 - accuracy: 0.9235 - val_loss: 0.4492 - val_accuracy: 0.9057\n",
            "Epoch 11/20\n",
            "2/2 [==============================] - 0s 39ms/step - loss: 0.4454 - accuracy: 0.9222 - val_loss: 0.4277 - val_accuracy: 0.9151\n",
            "Epoch 12/20\n",
            "2/2 [==============================] - 0s 35ms/step - loss: 0.4274 - accuracy: 0.9142 - val_loss: 0.4081 - val_accuracy: 0.9151\n",
            "Epoch 13/20\n",
            "2/2 [==============================] - 0s 35ms/step - loss: 0.4000 - accuracy: 0.9222 - val_loss: 0.3902 - val_accuracy: 0.9151\n",
            "Epoch 14/20\n",
            "2/2 [==============================] - 0s 33ms/step - loss: 0.3820 - accuracy: 0.9208 - val_loss: 0.3738 - val_accuracy: 0.9151\n",
            "Epoch 15/20\n",
            "2/2 [==============================] - 0s 35ms/step - loss: 0.3636 - accuracy: 0.9264 - val_loss: 0.3588 - val_accuracy: 0.9151\n",
            "Epoch 16/20\n",
            "2/2 [==============================] - 0s 35ms/step - loss: 0.3518 - accuracy: 0.9213 - val_loss: 0.3450 - val_accuracy: 0.9151\n",
            "Epoch 17/20\n",
            "2/2 [==============================] - 0s 188ms/step - loss: 0.3337 - accuracy: 0.9240 - val_loss: 0.3323 - val_accuracy: 0.9151\n",
            "Epoch 18/20\n",
            "2/2 [==============================] - 0s 35ms/step - loss: 0.3183 - accuracy: 0.9267 - val_loss: 0.3204 - val_accuracy: 0.9151\n",
            "Epoch 19/20\n",
            "2/2 [==============================] - 0s 36ms/step - loss: 0.3175 - accuracy: 0.9160 - val_loss: 0.3094 - val_accuracy: 0.9245\n",
            "Epoch 20/20\n",
            "2/2 [==============================] - 0s 36ms/step - loss: 0.3065 - accuracy: 0.9202 - val_loss: 0.2991 - val_accuracy: 0.9245\n"
          ],
          "name": "stdout"
        },
        {
          "output_type": "execute_result",
          "data": {
            "text/plain": [
              "<tensorflow.python.keras.callbacks.History at 0x7f2226dd85c0>"
            ]
          },
          "metadata": {
            "tags": []
          },
          "execution_count": 161
        }
      ]
    },
    {
      "cell_type": "code",
      "metadata": {
        "colab": {
          "base_uri": "https://localhost:8080/"
        },
        "id": "IuYAl61zlnoH",
        "outputId": "3e353b00-8e51-4d19-fac6-4b2a76dcefe4"
      },
      "source": [
        "result(x_test , y_test , model, True)"
      ],
      "execution_count": null,
      "outputs": [
        {
          "output_type": "stream",
          "text": [
            "F1 score:  0.9118647938791824\n",
            "Confusion Matrix:\n"
          ],
          "name": "stdout"
        },
        {
          "output_type": "display_data",
          "data": {
            "image/png": "[encoded data removed]",
            "text/plain": [
              "<Figure size 360x360 with 2 Axes>"
            ]
          },
          "metadata": {
            "tags": [],
            "needs_background": "light"
          }
        }
      ]
    },
    {
      "cell_type": "markdown",
      "metadata": {
        "id": "mlEXH_gTlnoI"
      },
      "source": [
        "### with PCA"
      ]
    },
    {
      "cell_type": "code",
      "metadata": {
        "id": "LT9XMi3YlnoJ"
      },
      "source": [
        "x_train,x_test,y_train,y_test = train_test_split(x_pca_w,y,test_size=0.3,random_state=42)"
      ],
      "execution_count": null,
      "outputs": []
    },
    {
      "cell_type": "code",
      "metadata": {
        "id": "d3dNKkl2lnoK"
      },
      "source": [
        "from tensorflow.keras.utils import to_categorical\n",
        "y_train_ = to_categorical(y_train)"
      ],
      "execution_count": null,
      "outputs": []
    },
    {
      "cell_type": "code",
      "metadata": {
        "id": "xMbp34bnlnoL"
      },
      "source": [
        "from keras.models import Sequential\n",
        "from keras.layers import Dense\n",
        "\n",
        "input_shape = x_train[0].shape\n",
        "\n",
        "model = Sequential()\n",
        "model.add(Dense(500, input_shape=input_shape, activation='relu'))\n",
        "model.add(Dense(2, activation='softmax'))"
      ],
      "execution_count": null,
      "outputs": []
    },
    {
      "cell_type": "code",
      "metadata": {
        "colab": {
          "base_uri": "https://localhost:8080/"
        },
        "id": "ZZ8LDbG1lnoM",
        "outputId": "998c1f0d-adf6-4d36-d7d7-756feb3bc5e1"
      },
      "source": [
        "# Configure the model and start training\n",
        "model.compile(loss='categorical_crossentropy', optimizer='adam', metrics=['accuracy'])\n",
        "model.fit(x_train, y_train_, epochs=40, batch_size=250, verbose=1, validation_split=0.2)"
      ],
      "execution_count": null,
      "outputs": [
        {
          "output_type": "stream",
          "text": [
            "Epoch 1/40\n",
            "2/2 [==============================] - 1s 195ms/step - loss: 0.8319 - accuracy: 0.4841 - val_loss: 0.7601 - val_accuracy: 0.5849\n",
            "Epoch 2/40\n",
            "2/2 [==============================] - 0s 43ms/step - loss: 0.4405 - accuracy: 0.8281 - val_loss: 0.6695 - val_accuracy: 0.6887\n",
            "Epoch 3/40\n",
            "2/2 [==============================] - 0s 44ms/step - loss: 0.2799 - accuracy: 0.8962 - val_loss: 0.6429 - val_accuracy: 0.6981\n",
            "Epoch 4/40\n",
            "2/2 [==============================] - 0s 44ms/step - loss: 0.1873 - accuracy: 0.9610 - val_loss: 0.6375 - val_accuracy: 0.7264\n",
            "Epoch 5/40\n",
            "2/2 [==============================] - 0s 42ms/step - loss: 0.1316 - accuracy: 0.9855 - val_loss: 0.6362 - val_accuracy: 0.7264\n",
            "Epoch 6/40\n",
            "2/2 [==============================] - 0s 44ms/step - loss: 0.0849 - accuracy: 1.0000 - val_loss: 0.6362 - val_accuracy: 0.7358\n",
            "Epoch 7/40\n",
            "2/2 [==============================] - 0s 47ms/step - loss: 0.0581 - accuracy: 1.0000 - val_loss: 0.6373 - val_accuracy: 0.7642\n",
            "Epoch 8/40\n",
            "2/2 [==============================] - 0s 42ms/step - loss: 0.0420 - accuracy: 1.0000 - val_loss: 0.6394 - val_accuracy: 0.7358\n",
            "Epoch 9/40\n",
            "2/2 [==============================] - 0s 43ms/step - loss: 0.0318 - accuracy: 1.0000 - val_loss: 0.6426 - val_accuracy: 0.7453\n",
            "Epoch 10/40\n",
            "2/2 [==============================] - 0s 41ms/step - loss: 0.0255 - accuracy: 1.0000 - val_loss: 0.6469 - val_accuracy: 0.7358\n",
            "Epoch 11/40\n",
            "2/2 [==============================] - 0s 41ms/step - loss: 0.0205 - accuracy: 1.0000 - val_loss: 0.6512 - val_accuracy: 0.7358\n",
            "Epoch 12/40\n",
            "2/2 [==============================] - 0s 43ms/step - loss: 0.0173 - accuracy: 1.0000 - val_loss: 0.6560 - val_accuracy: 0.7264\n",
            "Epoch 13/40\n",
            "2/2 [==============================] - 0s 41ms/step - loss: 0.0147 - accuracy: 1.0000 - val_loss: 0.6608 - val_accuracy: 0.7453\n",
            "Epoch 14/40\n",
            "2/2 [==============================] - 0s 43ms/step - loss: 0.0126 - accuracy: 1.0000 - val_loss: 0.6657 - val_accuracy: 0.7547\n",
            "Epoch 15/40\n",
            "2/2 [==============================] - 0s 41ms/step - loss: 0.0107 - accuracy: 1.0000 - val_loss: 0.6703 - val_accuracy: 0.7642\n",
            "Epoch 16/40\n",
            "2/2 [==============================] - 0s 40ms/step - loss: 0.0095 - accuracy: 1.0000 - val_loss: 0.6750 - val_accuracy: 0.7642\n",
            "Epoch 17/40\n",
            "2/2 [==============================] - 0s 43ms/step - loss: 0.0081 - accuracy: 1.0000 - val_loss: 0.6795 - val_accuracy: 0.7642\n",
            "Epoch 18/40\n",
            "2/2 [==============================] - 0s 47ms/step - loss: 0.0074 - accuracy: 1.0000 - val_loss: 0.6839 - val_accuracy: 0.7642\n",
            "Epoch 19/40\n",
            "2/2 [==============================] - 0s 42ms/step - loss: 0.0068 - accuracy: 1.0000 - val_loss: 0.6880 - val_accuracy: 0.7547\n",
            "Epoch 20/40\n",
            "2/2 [==============================] - 0s 43ms/step - loss: 0.0061 - accuracy: 1.0000 - val_loss: 0.6921 - val_accuracy: 0.7547\n",
            "Epoch 21/40\n",
            "2/2 [==============================] - 0s 43ms/step - loss: 0.0055 - accuracy: 1.0000 - val_loss: 0.6958 - val_accuracy: 0.7642\n",
            "Epoch 22/40\n",
            "2/2 [==============================] - 0s 44ms/step - loss: 0.0052 - accuracy: 1.0000 - val_loss: 0.6993 - val_accuracy: 0.7642\n",
            "Epoch 23/40\n",
            "2/2 [==============================] - 0s 42ms/step - loss: 0.0048 - accuracy: 1.0000 - val_loss: 0.7026 - val_accuracy: 0.7642\n",
            "Epoch 24/40\n",
            "2/2 [==============================] - 0s 42ms/step - loss: 0.0044 - accuracy: 1.0000 - val_loss: 0.7057 - val_accuracy: 0.7642\n",
            "Epoch 25/40\n",
            "2/2 [==============================] - 0s 48ms/step - loss: 0.0043 - accuracy: 1.0000 - val_loss: 0.7086 - val_accuracy: 0.7642\n",
            "Epoch 26/40\n",
            "2/2 [==============================] - 0s 48ms/step - loss: 0.0040 - accuracy: 1.0000 - val_loss: 0.7114 - val_accuracy: 0.7642\n",
            "Epoch 27/40\n",
            "2/2 [==============================] - 0s 43ms/step - loss: 0.0039 - accuracy: 1.0000 - val_loss: 0.7140 - val_accuracy: 0.7642\n",
            "Epoch 28/40\n",
            "2/2 [==============================] - 0s 48ms/step - loss: 0.0037 - accuracy: 1.0000 - val_loss: 0.7164 - val_accuracy: 0.7736\n",
            "Epoch 29/40\n",
            "2/2 [==============================] - 0s 44ms/step - loss: 0.0035 - accuracy: 1.0000 - val_loss: 0.7187 - val_accuracy: 0.7642\n",
            "Epoch 30/40\n",
            "2/2 [==============================] - 0s 42ms/step - loss: 0.0034 - accuracy: 1.0000 - val_loss: 0.7209 - val_accuracy: 0.7642\n",
            "Epoch 31/40\n",
            "2/2 [==============================] - 0s 42ms/step - loss: 0.0033 - accuracy: 1.0000 - val_loss: 0.7229 - val_accuracy: 0.7642\n",
            "Epoch 32/40\n",
            "2/2 [==============================] - 0s 42ms/step - loss: 0.0031 - accuracy: 1.0000 - val_loss: 0.7248 - val_accuracy: 0.7642\n",
            "Epoch 33/40\n",
            "2/2 [==============================] - 0s 41ms/step - loss: 0.0030 - accuracy: 1.0000 - val_loss: 0.7266 - val_accuracy: 0.7642\n",
            "Epoch 34/40\n",
            "2/2 [==============================] - 0s 42ms/step - loss: 0.0029 - accuracy: 1.0000 - val_loss: 0.7283 - val_accuracy: 0.7642\n",
            "Epoch 35/40\n",
            "2/2 [==============================] - 0s 178ms/step - loss: 0.0028 - accuracy: 1.0000 - val_loss: 0.7300 - val_accuracy: 0.7642\n",
            "Epoch 36/40\n",
            "2/2 [==============================] - 0s 45ms/step - loss: 0.0028 - accuracy: 1.0000 - val_loss: 0.7316 - val_accuracy: 0.7642\n",
            "Epoch 37/40\n",
            "2/2 [==============================] - 0s 43ms/step - loss: 0.0027 - accuracy: 1.0000 - val_loss: 0.7331 - val_accuracy: 0.7642\n",
            "Epoch 38/40\n",
            "2/2 [==============================] - 0s 43ms/step - loss: 0.0026 - accuracy: 1.0000 - val_loss: 0.7346 - val_accuracy: 0.7642\n",
            "Epoch 39/40\n",
            "2/2 [==============================] - 0s 51ms/step - loss: 0.0026 - accuracy: 1.0000 - val_loss: 0.7360 - val_accuracy: 0.7642\n",
            "Epoch 40/40\n",
            "2/2 [==============================] - 0s 43ms/step - loss: 0.0025 - accuracy: 1.0000 - val_loss: 0.7374 - val_accuracy: 0.7642\n"
          ],
          "name": "stdout"
        },
        {
          "output_type": "execute_result",
          "data": {
            "text/plain": [
              "<tensorflow.python.keras.callbacks.History at 0x7f222ba0ee80>"
            ]
          },
          "metadata": {
            "tags": []
          },
          "execution_count": 166
        }
      ]
    },
    {
      "cell_type": "code",
      "metadata": {
        "colab": {
          "base_uri": "https://localhost:8080/"
        },
        "id": "get47oxZlnoP",
        "outputId": "134a8b71-9ac2-4591-a787-38089a0ae558"
      },
      "source": [
        "result(x_test , y_test , model, True)"
      ],
      "execution_count": null,
      "outputs": [
        {
          "output_type": "stream",
          "text": [
            "F1 score:  0.5798070990160101\n",
            "Confusion Matrix:\n"
          ],
          "name": "stdout"
        },
        {
          "output_type": "display_data",
          "data": {
            "image/png": "[encoded data removed]",
            "text/plain": [
              "<Figure size 360x360 with 2 Axes>"
            ]
          },
          "metadata": {
            "tags": [],
            "needs_background": "light"
          }
        }
      ]
    },
    {
      "cell_type": "markdown",
      "metadata": {
        "id": "StbW-rXGGp91"
      },
      "source": [
        "### Real Data"
      ]
    },
    {
      "cell_type": "code",
      "metadata": {
        "id": "mEE-hA-LGp93"
      },
      "source": [
        "x_train,x_test,y_train,y_test = train_test_split(x,y,test_size=0.3,random_state=10)"
      ],
      "execution_count": null,
      "outputs": []
    },
    {
      "cell_type": "code",
      "metadata": {
        "id": "vYEwTEwdlnoU"
      },
      "source": [
        "from tensorflow.keras.utils import to_categorical\n",
        "y_train_ = to_categorical(y_train)"
      ],
      "execution_count": null,
      "outputs": []
    },
    {
      "cell_type": "code",
      "metadata": {
        "id": "9U8Ls_RwlnoV"
      },
      "source": [
        "from keras.models import Sequential\n",
        "from keras.layers import Dense\n",
        "\n",
        "input_shape = x_train[0].shape\n",
        "\n",
        "model = Sequential()\n",
        "model.add(Dense(800, input_shape=input_shape, activation='relu'))\n",
        "model.add(Dense(2, activation='softmax'))"
      ],
      "execution_count": null,
      "outputs": []
    },
    {
      "cell_type": "code",
      "metadata": {
        "colab": {
          "base_uri": "https://localhost:8080/"
        },
        "id": "0t97j-6xlnoW",
        "outputId": "5bc704c6-dd41-46c1-ae96-5b6292186abe"
      },
      "source": [
        "# Configure the model and start training\n",
        "model.compile(loss='categorical_crossentropy', optimizer='adam', metrics=['accuracy'])\n",
        "model.fit(x_train, y_train_, epochs=100, batch_size=250, verbose=1, validation_split=0.2)"
      ],
      "execution_count": null,
      "outputs": [
        {
          "output_type": "stream",
          "text": [
            "Epoch 1/100\n",
            "2/2 [==============================] - 1s 193ms/step - loss: 0.6630 - accuracy: 0.7391 - val_loss: 0.6415 - val_accuracy: 0.6226\n",
            "Epoch 2/100\n",
            "2/2 [==============================] - 0s 52ms/step - loss: 0.6058 - accuracy: 0.6655 - val_loss: 0.5120 - val_accuracy: 0.7358\n",
            "Epoch 3/100\n",
            "2/2 [==============================] - 0s 51ms/step - loss: 0.4427 - accuracy: 0.7841 - val_loss: 0.4503 - val_accuracy: 0.8585\n",
            "Epoch 4/100\n",
            "2/2 [==============================] - 0s 51ms/step - loss: 0.4150 - accuracy: 0.8314 - val_loss: 0.4456 - val_accuracy: 0.8491\n",
            "Epoch 5/100\n",
            "2/2 [==============================] - 0s 49ms/step - loss: 0.4052 - accuracy: 0.8353 - val_loss: 0.4498 - val_accuracy: 0.8113\n",
            "Epoch 6/100\n",
            "2/2 [==============================] - 0s 55ms/step - loss: 0.3952 - accuracy: 0.8395 - val_loss: 0.4271 - val_accuracy: 0.8774\n",
            "Epoch 7/100\n",
            "2/2 [==============================] - 0s 51ms/step - loss: 0.3803 - accuracy: 0.8522 - val_loss: 0.4241 - val_accuracy: 0.8585\n",
            "Epoch 8/100\n",
            "2/2 [==============================] - 0s 51ms/step - loss: 0.3737 - accuracy: 0.8561 - val_loss: 0.4321 - val_accuracy: 0.8208\n",
            "Epoch 9/100\n",
            "2/2 [==============================] - 0s 52ms/step - loss: 0.3633 - accuracy: 0.8628 - val_loss: 0.4144 - val_accuracy: 0.8774\n",
            "Epoch 10/100\n",
            "2/2 [==============================] - 0s 52ms/step - loss: 0.3453 - accuracy: 0.8697 - val_loss: 0.4142 - val_accuracy: 0.8491\n",
            "Epoch 11/100\n",
            "2/2 [==============================] - 0s 52ms/step - loss: 0.3483 - accuracy: 0.8643 - val_loss: 0.4105 - val_accuracy: 0.8396\n",
            "Epoch 12/100\n",
            "2/2 [==============================] - 0s 53ms/step - loss: 0.3565 - accuracy: 0.8693 - val_loss: 0.4024 - val_accuracy: 0.8585\n",
            "Epoch 13/100\n",
            "2/2 [==============================] - 0s 51ms/step - loss: 0.3587 - accuracy: 0.8643 - val_loss: 0.3964 - val_accuracy: 0.8679\n",
            "Epoch 14/100\n",
            "2/2 [==============================] - 0s 53ms/step - loss: 0.3449 - accuracy: 0.8561 - val_loss: 0.4006 - val_accuracy: 0.8491\n",
            "Epoch 15/100\n",
            "2/2 [==============================] - 0s 59ms/step - loss: 0.3443 - accuracy: 0.8754 - val_loss: 0.3869 - val_accuracy: 0.8679\n",
            "Epoch 16/100\n",
            "2/2 [==============================] - 0s 51ms/step - loss: 0.3436 - accuracy: 0.8563 - val_loss: 0.3822 - val_accuracy: 0.8679\n",
            "Epoch 17/100\n",
            "2/2 [==============================] - 0s 55ms/step - loss: 0.3198 - accuracy: 0.8810 - val_loss: 0.3951 - val_accuracy: 0.8396\n",
            "Epoch 18/100\n",
            "2/2 [==============================] - 0s 54ms/step - loss: 0.3342 - accuracy: 0.8680 - val_loss: 0.3767 - val_accuracy: 0.8679\n",
            "Epoch 19/100\n",
            "2/2 [==============================] - 0s 52ms/step - loss: 0.3122 - accuracy: 0.8709 - val_loss: 0.3721 - val_accuracy: 0.8679\n",
            "Epoch 20/100\n",
            "2/2 [==============================] - 0s 54ms/step - loss: 0.3098 - accuracy: 0.8868 - val_loss: 0.3696 - val_accuracy: 0.8679\n",
            "Epoch 21/100\n",
            "2/2 [==============================] - 0s 53ms/step - loss: 0.3071 - accuracy: 0.8870 - val_loss: 0.3659 - val_accuracy: 0.8679\n",
            "Epoch 22/100\n",
            "2/2 [==============================] - 0s 52ms/step - loss: 0.2960 - accuracy: 0.8881 - val_loss: 0.3647 - val_accuracy: 0.8585\n",
            "Epoch 23/100\n",
            "2/2 [==============================] - 0s 52ms/step - loss: 0.3011 - accuracy: 0.8825 - val_loss: 0.3600 - val_accuracy: 0.8679\n",
            "Epoch 24/100\n",
            "2/2 [==============================] - 0s 60ms/step - loss: 0.3016 - accuracy: 0.8902 - val_loss: 0.3588 - val_accuracy: 0.8585\n",
            "Epoch 25/100\n",
            "2/2 [==============================] - 0s 62ms/step - loss: 0.2990 - accuracy: 0.8902 - val_loss: 0.3556 - val_accuracy: 0.8585\n",
            "Epoch 26/100\n",
            "2/2 [==============================] - 0s 54ms/step - loss: 0.2820 - accuracy: 0.8899 - val_loss: 0.3543 - val_accuracy: 0.8679\n",
            "Epoch 27/100\n",
            "2/2 [==============================] - 0s 54ms/step - loss: 0.2802 - accuracy: 0.8955 - val_loss: 0.3510 - val_accuracy: 0.8679\n",
            "Epoch 28/100\n",
            "2/2 [==============================] - 0s 51ms/step - loss: 0.2772 - accuracy: 0.8931 - val_loss: 0.3490 - val_accuracy: 0.8585\n",
            "Epoch 29/100\n",
            "2/2 [==============================] - 0s 49ms/step - loss: 0.2782 - accuracy: 0.8888 - val_loss: 0.3496 - val_accuracy: 0.8679\n",
            "Epoch 30/100\n",
            "2/2 [==============================] - 0s 49ms/step - loss: 0.2767 - accuracy: 0.9016 - val_loss: 0.3447 - val_accuracy: 0.8679\n",
            "Epoch 31/100\n",
            "2/2 [==============================] - 0s 52ms/step - loss: 0.2803 - accuracy: 0.8835 - val_loss: 0.3428 - val_accuracy: 0.8585\n",
            "Epoch 32/100\n",
            "2/2 [==============================] - 0s 48ms/step - loss: 0.2687 - accuracy: 0.8904 - val_loss: 0.3411 - val_accuracy: 0.8774\n",
            "Epoch 33/100\n",
            "2/2 [==============================] - 0s 49ms/step - loss: 0.2596 - accuracy: 0.9002 - val_loss: 0.3390 - val_accuracy: 0.8679\n",
            "Epoch 34/100\n",
            "2/2 [==============================] - 0s 48ms/step - loss: 0.2621 - accuracy: 0.8976 - val_loss: 0.3366 - val_accuracy: 0.8679\n",
            "Epoch 35/100\n",
            "2/2 [==============================] - 0s 197ms/step - loss: 0.2552 - accuracy: 0.8973 - val_loss: 0.3342 - val_accuracy: 0.8868\n",
            "Epoch 36/100\n",
            "2/2 [==============================] - 0s 53ms/step - loss: 0.2420 - accuracy: 0.9074 - val_loss: 0.3327 - val_accuracy: 0.8962\n",
            "Epoch 37/100\n",
            "2/2 [==============================] - 0s 51ms/step - loss: 0.2422 - accuracy: 0.9079 - val_loss: 0.3308 - val_accuracy: 0.8679\n",
            "Epoch 38/100\n",
            "2/2 [==============================] - 0s 50ms/step - loss: 0.2339 - accuracy: 0.9056 - val_loss: 0.3347 - val_accuracy: 0.8585\n",
            "Epoch 39/100\n",
            "2/2 [==============================] - 0s 53ms/step - loss: 0.2615 - accuracy: 0.9092 - val_loss: 0.3453 - val_accuracy: 0.8774\n",
            "Epoch 40/100\n",
            "2/2 [==============================] - 0s 49ms/step - loss: 0.2798 - accuracy: 0.8691 - val_loss: 0.3229 - val_accuracy: 0.8679\n",
            "Epoch 41/100\n",
            "2/2 [==============================] - 0s 51ms/step - loss: 0.2494 - accuracy: 0.9063 - val_loss: 0.3592 - val_accuracy: 0.8019\n",
            "Epoch 42/100\n",
            "2/2 [==============================] - 0s 51ms/step - loss: 0.2576 - accuracy: 0.8980 - val_loss: 0.3925 - val_accuracy: 0.8585\n",
            "Epoch 43/100\n",
            "2/2 [==============================] - 0s 51ms/step - loss: 0.2768 - accuracy: 0.8722 - val_loss: 0.3513 - val_accuracy: 0.8019\n",
            "Epoch 44/100\n",
            "2/2 [==============================] - 0s 52ms/step - loss: 0.2553 - accuracy: 0.9060 - val_loss: 0.3197 - val_accuracy: 0.8868\n",
            "Epoch 45/100\n",
            "2/2 [==============================] - 0s 52ms/step - loss: 0.2439 - accuracy: 0.9016 - val_loss: 0.3421 - val_accuracy: 0.8774\n",
            "Epoch 46/100\n",
            "2/2 [==============================] - 0s 49ms/step - loss: 0.2614 - accuracy: 0.8877 - val_loss: 0.3398 - val_accuracy: 0.8208\n",
            "Epoch 47/100\n",
            "2/2 [==============================] - 0s 52ms/step - loss: 0.2200 - accuracy: 0.9269 - val_loss: 0.3498 - val_accuracy: 0.8774\n",
            "Epoch 48/100\n",
            "2/2 [==============================] - 0s 49ms/step - loss: 0.2509 - accuracy: 0.8879 - val_loss: 0.3132 - val_accuracy: 0.8679\n",
            "Epoch 49/100\n",
            "2/2 [==============================] - 0s 50ms/step - loss: 0.2373 - accuracy: 0.9053 - val_loss: 0.3173 - val_accuracy: 0.8679\n",
            "Epoch 50/100\n",
            "2/2 [==============================] - 0s 56ms/step - loss: 0.2308 - accuracy: 0.9139 - val_loss: 0.3653 - val_accuracy: 0.8679\n",
            "Epoch 51/100\n",
            "2/2 [==============================] - 0s 50ms/step - loss: 0.2700 - accuracy: 0.8808 - val_loss: 0.3260 - val_accuracy: 0.8585\n",
            "Epoch 52/100\n",
            "2/2 [==============================] - 0s 48ms/step - loss: 0.2201 - accuracy: 0.9227 - val_loss: 0.3073 - val_accuracy: 0.8868\n",
            "Epoch 53/100\n",
            "2/2 [==============================] - 0s 49ms/step - loss: 0.2104 - accuracy: 0.9065 - val_loss: 0.3100 - val_accuracy: 0.8774\n",
            "Epoch 54/100\n",
            "2/2 [==============================] - 0s 48ms/step - loss: 0.1993 - accuracy: 0.9164 - val_loss: 0.3250 - val_accuracy: 0.8491\n",
            "Epoch 55/100\n",
            "2/2 [==============================] - 0s 61ms/step - loss: 0.2158 - accuracy: 0.9314 - val_loss: 0.3028 - val_accuracy: 0.8868\n",
            "Epoch 56/100\n",
            "2/2 [==============================] - 0s 49ms/step - loss: 0.2078 - accuracy: 0.9092 - val_loss: 0.3008 - val_accuracy: 0.8868\n",
            "Epoch 57/100\n",
            "2/2 [==============================] - 0s 49ms/step - loss: 0.2012 - accuracy: 0.9263 - val_loss: 0.3101 - val_accuracy: 0.8868\n",
            "Epoch 58/100\n",
            "2/2 [==============================] - 0s 50ms/step - loss: 0.1938 - accuracy: 0.9285 - val_loss: 0.3089 - val_accuracy: 0.8774\n",
            "Epoch 59/100\n",
            "2/2 [==============================] - 0s 50ms/step - loss: 0.2107 - accuracy: 0.9041 - val_loss: 0.2943 - val_accuracy: 0.8679\n",
            "Epoch 60/100\n",
            "2/2 [==============================] - 0s 48ms/step - loss: 0.1920 - accuracy: 0.9298 - val_loss: 0.2926 - val_accuracy: 0.8774\n",
            "Epoch 61/100\n",
            "2/2 [==============================] - 0s 49ms/step - loss: 0.1830 - accuracy: 0.9332 - val_loss: 0.2916 - val_accuracy: 0.8774\n",
            "Epoch 62/100\n",
            "2/2 [==============================] - 0s 49ms/step - loss: 0.1790 - accuracy: 0.9364 - val_loss: 0.3028 - val_accuracy: 0.8868\n",
            "Epoch 63/100\n",
            "2/2 [==============================] - 0s 50ms/step - loss: 0.1818 - accuracy: 0.9150 - val_loss: 0.2921 - val_accuracy: 0.8868\n",
            "Epoch 64/100\n",
            "2/2 [==============================] - 0s 50ms/step - loss: 0.1693 - accuracy: 0.9533 - val_loss: 0.2896 - val_accuracy: 0.8774\n",
            "Epoch 65/100\n",
            "2/2 [==============================] - 0s 56ms/step - loss: 0.1730 - accuracy: 0.9379 - val_loss: 0.2893 - val_accuracy: 0.8679\n",
            "Epoch 66/100\n",
            "2/2 [==============================] - 0s 52ms/step - loss: 0.1782 - accuracy: 0.9276 - val_loss: 0.2863 - val_accuracy: 0.8774\n",
            "Epoch 67/100\n",
            "2/2 [==============================] - 0s 55ms/step - loss: 0.1665 - accuracy: 0.9433 - val_loss: 0.2873 - val_accuracy: 0.8774\n",
            "Epoch 68/100\n",
            "2/2 [==============================] - 0s 53ms/step - loss: 0.1669 - accuracy: 0.9276 - val_loss: 0.2859 - val_accuracy: 0.8774\n",
            "Epoch 69/100\n",
            "2/2 [==============================] - 0s 53ms/step - loss: 0.1625 - accuracy: 0.9538 - val_loss: 0.2842 - val_accuracy: 0.8774\n",
            "Epoch 70/100\n",
            "2/2 [==============================] - 0s 52ms/step - loss: 0.1640 - accuracy: 0.9379 - val_loss: 0.2814 - val_accuracy: 0.8774\n",
            "Epoch 71/100\n",
            "2/2 [==============================] - 0s 50ms/step - loss: 0.1566 - accuracy: 0.9511 - val_loss: 0.2807 - val_accuracy: 0.8774\n",
            "Epoch 72/100\n",
            "2/2 [==============================] - 0s 51ms/step - loss: 0.1581 - accuracy: 0.9361 - val_loss: 0.2805 - val_accuracy: 0.8774\n",
            "Epoch 73/100\n",
            "2/2 [==============================] - 0s 51ms/step - loss: 0.1562 - accuracy: 0.9527 - val_loss: 0.2821 - val_accuracy: 0.8962\n",
            "Epoch 74/100\n",
            "2/2 [==============================] - 0s 50ms/step - loss: 0.1463 - accuracy: 0.9583 - val_loss: 0.2797 - val_accuracy: 0.8868\n",
            "Epoch 75/100\n",
            "2/2 [==============================] - 0s 51ms/step - loss: 0.1387 - accuracy: 0.9536 - val_loss: 0.2775 - val_accuracy: 0.8868\n",
            "Epoch 76/100\n",
            "2/2 [==============================] - 0s 59ms/step - loss: 0.1437 - accuracy: 0.9527 - val_loss: 0.2757 - val_accuracy: 0.8774\n",
            "Epoch 77/100\n",
            "2/2 [==============================] - 0s 55ms/step - loss: 0.1435 - accuracy: 0.9480 - val_loss: 0.2789 - val_accuracy: 0.8962\n",
            "Epoch 78/100\n",
            "2/2 [==============================] - 0s 54ms/step - loss: 0.1453 - accuracy: 0.9574 - val_loss: 0.2784 - val_accuracy: 0.8774\n",
            "Epoch 79/100\n",
            "2/2 [==============================] - 0s 52ms/step - loss: 0.1422 - accuracy: 0.9493 - val_loss: 0.2744 - val_accuracy: 0.8868\n",
            "Epoch 80/100\n",
            "2/2 [==============================] - 0s 51ms/step - loss: 0.1311 - accuracy: 0.9599 - val_loss: 0.2720 - val_accuracy: 0.8868\n",
            "Epoch 81/100\n",
            "2/2 [==============================] - 0s 51ms/step - loss: 0.1314 - accuracy: 0.9570 - val_loss: 0.2735 - val_accuracy: 0.8868\n",
            "Epoch 82/100\n",
            "2/2 [==============================] - 0s 56ms/step - loss: 0.1366 - accuracy: 0.9471 - val_loss: 0.2697 - val_accuracy: 0.8868\n",
            "Epoch 83/100\n",
            "2/2 [==============================] - 0s 50ms/step - loss: 0.1289 - accuracy: 0.9588 - val_loss: 0.2722 - val_accuracy: 0.8868\n",
            "Epoch 84/100\n",
            "2/2 [==============================] - 0s 51ms/step - loss: 0.1246 - accuracy: 0.9583 - val_loss: 0.2963 - val_accuracy: 0.8868\n",
            "Epoch 85/100\n",
            "2/2 [==============================] - 0s 179ms/step - loss: 0.1410 - accuracy: 0.9646 - val_loss: 0.2825 - val_accuracy: 0.8679\n",
            "Epoch 86/100\n",
            "2/2 [==============================] - 0s 62ms/step - loss: 0.1341 - accuracy: 0.9440 - val_loss: 0.2691 - val_accuracy: 0.8868\n",
            "Epoch 87/100\n",
            "2/2 [==============================] - 0s 52ms/step - loss: 0.1156 - accuracy: 0.9652 - val_loss: 0.2660 - val_accuracy: 0.8868\n",
            "Epoch 88/100\n",
            "2/2 [==============================] - 0s 51ms/step - loss: 0.1147 - accuracy: 0.9659 - val_loss: 0.2656 - val_accuracy: 0.8774\n",
            "Epoch 89/100\n",
            "2/2 [==============================] - 0s 51ms/step - loss: 0.1111 - accuracy: 0.9614 - val_loss: 0.2659 - val_accuracy: 0.8868\n",
            "Epoch 90/100\n",
            "2/2 [==============================] - 0s 53ms/step - loss: 0.1114 - accuracy: 0.9673 - val_loss: 0.2711 - val_accuracy: 0.8774\n",
            "Epoch 91/100\n",
            "2/2 [==============================] - 0s 51ms/step - loss: 0.1115 - accuracy: 0.9686 - val_loss: 0.2671 - val_accuracy: 0.9057\n",
            "Epoch 92/100\n",
            "2/2 [==============================] - 0s 50ms/step - loss: 0.1057 - accuracy: 0.9733 - val_loss: 0.2639 - val_accuracy: 0.8774\n",
            "Epoch 93/100\n",
            "2/2 [==============================] - 0s 52ms/step - loss: 0.1067 - accuracy: 0.9720 - val_loss: 0.2591 - val_accuracy: 0.8868\n",
            "Epoch 94/100\n",
            "2/2 [==============================] - 0s 57ms/step - loss: 0.1007 - accuracy: 0.9688 - val_loss: 0.2595 - val_accuracy: 0.8868\n",
            "Epoch 95/100\n",
            "2/2 [==============================] - 0s 52ms/step - loss: 0.0991 - accuracy: 0.9718 - val_loss: 0.2601 - val_accuracy: 0.8868\n",
            "Epoch 96/100\n",
            "2/2 [==============================] - 0s 56ms/step - loss: 0.1001 - accuracy: 0.9733 - val_loss: 0.2580 - val_accuracy: 0.8868\n",
            "Epoch 97/100\n",
            "2/2 [==============================] - 0s 51ms/step - loss: 0.1004 - accuracy: 0.9707 - val_loss: 0.2593 - val_accuracy: 0.8868\n",
            "Epoch 98/100\n",
            "2/2 [==============================] - 0s 50ms/step - loss: 0.0902 - accuracy: 0.9747 - val_loss: 0.2659 - val_accuracy: 0.9057\n",
            "Epoch 99/100\n",
            "2/2 [==============================] - 0s 53ms/step - loss: 0.0945 - accuracy: 0.9865 - val_loss: 0.2642 - val_accuracy: 0.8868\n",
            "Epoch 100/100\n",
            "2/2 [==============================] - 0s 51ms/step - loss: 0.0920 - accuracy: 0.9776 - val_loss: 0.2619 - val_accuracy: 0.8962\n"
          ],
          "name": "stdout"
        },
        {
          "output_type": "execute_result",
          "data": {
            "text/plain": [
              "<tensorflow.python.keras.callbacks.History at 0x7f2226f0ff98>"
            ]
          },
          "metadata": {
            "tags": []
          },
          "execution_count": 171
        }
      ]
    },
    {
      "cell_type": "code",
      "metadata": {
        "colab": {
          "base_uri": "https://localhost:8080/"
        },
        "id": "LFHEIwlglnoX",
        "outputId": "5ebb4737-b447-484b-a5c2-9adf98aa335e"
      },
      "source": [
        "result(x_test , y_test , model, True)"
      ],
      "execution_count": null,
      "outputs": [
        {
          "output_type": "stream",
          "text": [
            "F1 score:  0.7771576024457969\n",
            "Confusion Matrix:\n"
          ],
          "name": "stdout"
        },
        {
          "output_type": "display_data",
          "data": {
            "image/png": "[encoded data removed]",
            "text/plain": [
              "<Figure size 360x360 with 2 Axes>"
            ]
          },
          "metadata": {
            "tags": [],
            "needs_background": "light"
          }
        }
      ]
    },
    {
      "cell_type": "markdown",
      "metadata": {
        "id": "-Zvo2RaXGp8p"
      },
      "source": [
        "## GMM"
      ]
    },
    {
      "cell_type": "code",
      "metadata": {
        "id": "Qnz_3m3xGp8q",
        "colab": {
          "base_uri": "https://localhost:8080/"
        },
        "outputId": "36287222-df64-4ded-f893-cfa39031aa2e"
      },
      "source": [
        "data.info()"
      ],
      "execution_count": null,
      "outputs": [
        {
          "output_type": "stream",
          "text": [
            "<class 'pandas.core.frame.DataFrame'>\n",
            "RangeIndex: 756 entries, 0 to 755\n",
            "Columns: 755 entries, id to class\n",
            "dtypes: float64(749), int64(6)\n",
            "memory usage: 4.4 MB\n"
          ],
          "name": "stdout"
        }
      ]
    },
    {
      "cell_type": "code",
      "metadata": {
        "id": "ll1BglySGp8s"
      },
      "source": [
        "def GMM(num_components , x_train):\n",
        "    model = mixture.GaussianMixture(n_components=num_components, covariance_type='full').fit(x_train)\n",
        "    print('\\u03BC = ', model.means_, sep=\"\\n\")\n",
        "    print('\\u03A3 = ', model.covariances_, sep=\"\\n\")\n",
        "    print ('weight = ', model.weights_)"
      ],
      "execution_count": null,
      "outputs": []
    },
    {
      "cell_type": "code",
      "metadata": {
        "id": "l7Fr7FjTGp8u"
      },
      "source": [
        "def AIC_BIC(x_train):\n",
        "    n_components = np.arange(1, 10)\n",
        "    clfs = [mixture.GaussianMixture( n , max_iter = 1000).fit(x_train) for n in n_components]\n",
        "    bics = [clf.bic(x_train) for clf in clfs]\n",
        "    aics = [clf.aic(x_train) for clf in clfs]\n",
        "\n",
        "    plt.plot(n_components, bics, label = 'BIC')\n",
        "    plt.plot(n_components, aics, label = 'AIC')\n",
        "    plt.xlabel('n_components')\n",
        "\n",
        "    plt.legend()\n",
        "    plt.show()"
      ],
      "execution_count": null,
      "outputs": []
    },
    {
      "cell_type": "markdown",
      "metadata": {
        "id": "NPtaN-TZGp8w"
      },
      "source": [
        "### with LDA and PCA"
      ]
    },
    {
      "cell_type": "code",
      "metadata": {
        "id": "_LaZf7vjGp8x"
      },
      "source": [
        "x_train,x_test,y_train,y_test = train_test_split(x_pca_w_lda,y,test_size=0.3,random_state=42)"
      ],
      "execution_count": null,
      "outputs": []
    },
    {
      "cell_type": "code",
      "metadata": {
        "colab": {
          "base_uri": "https://localhost:8080/"
        },
        "id": "iDexguvfGp8z",
        "outputId": "04d7a33d-bbd3-4834-e656-6c45844d3a3f"
      },
      "source": [
        "from sklearn import mixture\n",
        "model = mixture.GaussianMixture(n_components=2, covariance_type='full').fit(x_train)\n",
        "\n",
        "print('\\u03BC = ', model.means_, sep=\"\\n\")\n",
        "print('\\u03A3 = ', model.covariances_, sep=\"\\n\")\n",
        "print ('weight = ', model.weights_)\n"
      ],
      "execution_count": null,
      "outputs": [
        {
          "output_type": "stream",
          "text": [
            "μ = \n",
            "[[ 1.10350868]\n",
            " [-3.3622941 ]]\n",
            "Σ = \n",
            "[[[0.90441359]]\n",
            "\n",
            " [[1.08936541]]]\n",
            "weight =  [0.75246008 0.24753992]\n"
          ],
          "name": "stdout"
        }
      ]
    },
    {
      "cell_type": "code",
      "metadata": {
        "colab": {
          "base_uri": "https://localhost:8080/"
        },
        "id": "bFBIX7PRGp81",
        "outputId": "52e76eb4-300c-41c4-8250-27f6803fd751"
      },
      "source": [
        "result(x_test , y_test , model, False)"
      ],
      "execution_count": null,
      "outputs": [
        {
          "output_type": "stream",
          "text": [
            "F1 score:  0.03516739446870451\n",
            "Confusion Matrix:\n"
          ],
          "name": "stdout"
        },
        {
          "output_type": "display_data",
          "data": {
            "image/png": "[encoded data removed]",
            "text/plain": [
              "<Figure size 360x360 with 2 Axes>"
            ]
          },
          "metadata": {
            "tags": [],
            "needs_background": "light"
          }
        }
      ]
    },
    {
      "cell_type": "code",
      "metadata": {
        "colab": {
          "base_uri": "https://localhost:8080/"
        },
        "id": "BxumH0UlGp8_",
        "outputId": "7a003134-c34e-44eb-9c88-c976d3bbf06a"
      },
      "source": [
        " AIC_BIC(x_train)"
      ],
      "execution_count": null,
      "outputs": [
        {
          "output_type": "display_data",
          "data": {
            "image/png": "[encoded data removed]",
            "text/plain": [
              "<Figure size 432x288 with 1 Axes>"
            ]
          },
          "metadata": {
            "tags": [],
            "needs_background": "light"
          }
        }
      ]
    },
    {
      "cell_type": "markdown",
      "metadata": {
        "id": "Xgo7D1czGp9B"
      },
      "source": [
        "### with PCA"
      ]
    },
    {
      "cell_type": "code",
      "metadata": {
        "id": "smJO4bfxGp9I"
      },
      "source": [
        "x_train,x_test,y_train,y_test = train_test_split(x_pca_w,y,test_size=0.3,random_state=42)"
      ],
      "execution_count": null,
      "outputs": []
    },
    {
      "cell_type": "code",
      "metadata": {
        "colab": {
          "base_uri": "https://localhost:8080/"
        },
        "id": "IH6cswCLGp9M",
        "outputId": "e15a26d9-269c-409c-a2a6-46d4d1ec3dd5"
      },
      "source": [
        "from sklearn import mixture\n",
        "model = mixture.GaussianMixture(n_components=2, covariance_type='full').fit(x_train)\n",
        "labels = model.predict(x_test)\n",
        "\n",
        "print('\\u03BC = ', model.means_, sep=\"\\n\")\n",
        "print('\\u03A3 = ', model.covariances_, sep=\"\\n\")\n",
        "print ('weight = ', model.weights_)\n"
      ],
      "execution_count": null,
      "outputs": [
        {
          "output_type": "stream",
          "text": [
            "μ = \n",
            "[[-0.11788527  0.0086899  -0.04751188  0.07375582  0.08570141  0.02657687\n",
            "   0.01568836  0.0288539   0.0354897  -0.03497345 -0.04054383 -0.05450146\n",
            "  -0.06999296 -0.02849885  0.00824738  0.01179481  0.09116995 -0.01560058\n",
            "   0.01573047  0.0408922  -0.02918956 -0.10588065  0.0479386   0.03017799\n",
            "  -0.06302957 -0.03588153  0.05151826 -0.01476449 -0.0022462   0.06929234\n",
            "   0.06916527  0.00123658 -0.02716075  0.09229036  0.01067245 -0.06734427\n",
            "   0.0968618  -0.00690845  0.00108405  0.0487968   0.08767095 -0.07380746\n",
            "   0.0181128  -0.03015522 -0.03526862 -0.1005209   0.03209011 -0.00325083\n",
            "  -0.04226316 -0.02988796 -0.05917899  0.01592128  0.01566237 -0.09678653\n",
            "   0.00939134 -0.05262456  0.03317003 -0.03007154  0.00152677  0.02931963\n",
            "  -0.00299522 -0.0074736   0.0107889   0.03126253 -0.04558884  0.06108327\n",
            "  -0.05922137  0.00481576  0.03839037 -0.05981841 -0.05504781 -0.04247588\n",
            "  -0.02865142  0.01301841  0.0559807   0.04897947 -0.07840883 -0.02664048\n",
            "   0.11537236  0.02286288 -0.01340751  0.05236861  0.01178623  0.00275327\n",
            "   0.08840136 -0.05240943 -0.0279915  -0.03707691  0.00524034  0.03730572\n",
            "  -0.01477292  0.03205809  0.01851995 -0.12327718  0.06365547 -0.01790758\n",
            "   0.10471834 -0.05022568  0.05265219  0.01341868  0.00922005  0.03366014\n",
            "  -0.02567781 -0.01519909 -0.03236588  0.03280234 -0.01694301 -0.00990904\n",
            "  -0.03151036  0.01454325 -0.0223524   0.05507895 -0.03238275 -0.03283266\n",
            "   0.06511915  0.02237395  0.03237951 -0.18312851 -0.01445008 -0.04022578\n",
            "  -0.05798874 -0.02122119  0.01584577  0.01009911  0.01878233  0.00407371\n",
            "   0.03659861 -0.03260363  0.03961441 -0.01069861  0.17040433  0.05551608\n",
            "   0.01302215  0.04230016  0.03020901 -0.10128899 -0.06182485 -0.08195953\n",
            "   0.01911932 -0.03639509  0.05224813 -0.05808366 -0.01742063 -0.0257035\n",
            "   0.01831596  0.04212873 -0.09498453 -0.00531609  0.04083866  0.01616579\n",
            "   0.01864905  0.02260821  0.04830239  0.02614616  0.05267061 -0.00122351\n",
            "   0.01555707  0.07460151  0.01426544  0.068281    0.0630599   0.02431816\n",
            "   0.00520603 -0.01732454  0.03195871  0.07605451  0.00635482  0.02302335\n",
            "  -0.08250961  0.02505939  0.00325833 -0.0257551   0.03769025  0.06066542\n",
            "   0.01449702 -0.0135549   0.0156027   0.0354218   0.00276496  0.04158616\n",
            "   0.04874952 -0.01857546 -0.0043925  -0.04024684 -0.0539169  -0.01398643\n",
            "  -0.06553409  0.09154311 -0.05829304  0.02828842 -0.14917535  0.06168182\n",
            "   0.03099392 -0.04463754 -0.01958953  0.04338623  0.00074052  0.04316223\n",
            "   0.0487092  -0.036659    0.02850099  0.01009446 -0.05323694 -0.0488935\n",
            "  -0.03680202  0.00931651  0.02271301  0.01224896  0.01533959  0.0618458\n",
            "  -0.01173183 -0.05575892  0.01085394 -0.08683622 -0.06361896  0.01839036\n",
            "  -0.01216548 -0.03700013  0.11420766  0.12526437  0.03672193 -0.11631283\n",
            "  -0.09897964 -0.01906254  0.03365672  0.06871965 -0.03953581  0.00097536\n",
            "  -0.08283933 -0.04541979  0.02714711  0.07477887 -0.0719267   0.09316419\n",
            "   0.04325683 -0.10992116  0.00472378 -0.06192099  0.08904757 -0.05403138\n",
            "  -0.06024892  0.04563994  0.01942828 -0.04972115 -0.00888768  0.00589894\n",
            "  -0.00668768  0.00394711  0.01492642 -0.07499354 -0.01731505 -0.05789942\n",
            "   0.02683627  0.00746998  0.07713281 -0.09946097  0.00768524  0.01071563\n",
            "   0.00318902  0.08472181  0.00069605 -0.02787184 -0.000421   -0.04691731\n",
            "   0.05340651  0.00081149 -0.00371348 -0.08503259 -0.04948785  0.00527866\n",
            "   0.08991451 -0.0069581   0.03381967 -0.06377218  0.00521265  0.08810318\n",
            "   0.01917852 -0.0556462   0.03911854 -0.0156453   0.01070096 -0.00140079\n",
            "   0.00244921 -0.00993945  0.06447037 -0.01787631 -0.00970396 -0.02182371\n",
            "  -0.11132118 -0.0112891  -0.07167199  0.00033775  0.05607236  0.00503205\n",
            "  -0.01650276  0.00378783  0.01928492  0.04767746 -0.08974393 -0.05472961\n",
            "  -0.02140013  0.03753584 -0.03479143  0.01843299  0.04657099 -0.09319042\n",
            "   0.01292154 -0.03359194  0.09728619 -0.02761819  0.0745449  -0.10994063\n",
            "   0.01140289  0.01262389 -0.05937185  0.0150627   0.02269382  0.02345166\n",
            "   0.03386137  0.00110504 -0.00457712  0.04068963  0.10171126  0.10101988\n",
            "   0.00228938  0.07328195  0.00068746  0.00336964  0.04337045 -0.08005303\n",
            "   0.07429554 -0.01778448 -0.00131335  0.00805004 -0.04062279  0.00089637\n",
            "   0.00673967  0.00273182  0.06577751  0.01399993  0.01344032 -0.02222334\n",
            "   0.00075441  0.04066876  0.03279723 -0.03802964  0.09499553  0.10007964\n",
            "  -0.07949803  0.04240081]\n",
            " [ 0.1632428  -0.14943196  0.0601481  -0.0743031  -0.14934149 -0.01872476\n",
            "  -0.09119714 -0.08386473  0.01093161  0.08551316 -0.01912987  0.07359159\n",
            "   0.10329844  0.04827142  0.07481695 -0.06173475 -0.05167552  0.00525067\n",
            "   0.05150431 -0.09222554 -0.05402701  0.12990905 -0.03756927 -0.03546126\n",
            "  -0.06565353  0.06548148 -0.10441965  0.09192523  0.07706384 -0.00991282\n",
            "  -0.03130764  0.01807042  0.0707043  -0.00853725 -0.04926498  0.13680487\n",
            "  -0.10428579 -0.03272786  0.01703351 -0.07928004 -0.13984338  0.10160464\n",
            "   0.02482238  0.012391    0.02449089  0.04263505 -0.03391498  0.01440598\n",
            "   0.03116947  0.03930662  0.09803201  0.04486087 -0.06448202  0.11967688\n",
            "   0.08930072  0.03849747 -0.03543529  0.05163658 -0.00056792  0.01297239\n",
            "  -0.01545717 -0.01012508  0.05184624 -0.07903218  0.1466331  -0.0532008\n",
            "   0.09492161 -0.01016395 -0.04780486  0.02802162  0.15457702  0.03823505\n",
            "   0.04207567 -0.00839093 -0.0389059  -0.05847335  0.01110392 -0.11060205\n",
            "  -0.1245372   0.0514387   0.04577631 -0.07343946 -0.01720377 -0.00198933\n",
            "  -0.06108602  0.04991412  0.07725408 -0.00968957 -0.05371255 -0.01961054\n",
            "  -0.06985857 -0.05413123  0.05099235  0.10252726  0.02597356 -0.03043089\n",
            "   0.0058318   0.07564384 -0.0226209   0.02718394 -0.01241095 -0.03860019\n",
            "  -0.02440921  0.02524527  0.07601238 -0.01330237  0.06601424 -0.09006747\n",
            "   0.03807366  0.0226263   0.08351476 -0.12316875 -0.04716254 -0.03714501\n",
            "  -0.09323166 -0.00337731  0.05621931  0.1390139   0.10843685  0.07339975\n",
            "   0.07841001 -0.02584385 -0.13029431 -0.13517704 -0.00457271 -0.00689938\n",
            "  -0.10405071 -0.01727318 -0.10323202  0.00337338 -0.13707194 -0.01082702\n",
            "   0.04378409 -0.04050495 -0.1303658   0.26229301  0.07172416  0.11234108\n",
            "  -0.03663545  0.03928002 -0.13849541  0.02225153  0.05197959 -0.03366448\n",
            "   0.03506303  0.02159613  0.12737638  0.00320432 -0.01808154  0.00247359\n",
            "  -0.0042822   0.0019268  -0.04580437  0.04533797 -0.00899622  0.04962492\n",
            "   0.00094127 -0.09374086  0.08161381 -0.03628325 -0.01613178  0.02873549\n",
            "  -0.04956308 -0.0245159  -0.12936035 -0.12762708 -0.02658279 -0.01007388\n",
            "   0.1344554   0.00250205 -0.07600399  0.03067298 -0.02200544  0.03588576\n",
            "  -0.00478894  0.02467388 -0.01685287 -0.03533399  0.04139547  0.00481959\n",
            "  -0.10315337  0.00725241  0.01981382  0.00795776  0.05834826  0.01768592\n",
            "  -0.00233645 -0.05676955  0.06997745  0.07652993  0.14883477 -0.12352067\n",
            "  -0.04077027  0.03257811  0.03563723 -0.07084665  0.03065463 -0.01966556\n",
            "  -0.05376473  0.06687967  0.05601528 -0.06617743  0.09310798  0.08284739\n",
            "   0.06723701 -0.03324338  0.00669084  0.02172024  0.02971403 -0.06438278\n",
            "   0.08367991  0.01556274  0.03500359  0.05897744  0.06627661 -0.02750948\n",
            "   0.02962909 -0.01016056 -0.06530961 -0.03690432 -0.14264242  0.10876248\n",
            "   0.08053924 -0.10319753 -0.08641853 -0.03496128 -0.09039452 -0.03690553\n",
            "   0.09784476  0.02128709 -0.12255544  0.03836585  0.06598225 -0.13294992\n",
            "  -0.03007354  0.13671786  0.00724547  0.12879366 -0.04940581  0.01032542\n",
            "   0.07152148  0.01657403 -0.03724837  0.08107527  0.03485447 -0.0565731\n",
            "   0.0156324   0.08942493 -0.02310143  0.10925561  0.03606357  0.07243307\n",
            "   0.01502289 -0.06639349 -0.08099792  0.1012866   0.04027615 -0.01921456\n",
            "   0.0650078  -0.02592032  0.02696201 -0.01637395  0.00201416  0.05874851\n",
            "  -0.10536671  0.06661081  0.06483142  0.13410317  0.06124744 -0.02806055\n",
            "  -0.05550681 -0.01676307  0.05743068  0.00872897  0.11109307 -0.09462372\n",
            "   0.03801256  0.04667909 -0.12013484  0.12291696 -0.12629128 -0.05532271\n",
            "  -0.03451999  0.03723549  0.00407083 -0.00439228 -0.04412086  0.01519635\n",
            "   0.14186981  0.03087774  0.1363208  -0.03639472 -0.03586278  0.03005109\n",
            "   0.06427387 -0.01184284 -0.07004104 -0.04654013 -0.02957957  0.09885867\n",
            "  -0.03436685 -0.06502675 -0.01202785  0.08238755  0.00405325  0.14007976\n",
            "  -0.08318788  0.04732754 -0.06760731  0.04631838 -0.02970896  0.03781154\n",
            "  -0.00764839  0.0249925   0.08862247 -0.02308421  0.01824491 -0.00492925\n",
            "  -0.03572963 -0.04083624  0.07411403 -0.05511661 -0.15174109 -0.09886771\n",
            "  -0.05614858 -0.02115545 -0.07890724  0.08991055 -0.06806305  0.1231789\n",
            "  -0.07963271  0.01082828  0.02238742  0.00341166 -0.07766369 -0.00698889\n",
            "   0.03992741  0.05999621  0.01774981 -0.03956341  0.03526933  0.01271004\n",
            "   0.01951704 -0.07333813 -0.01456731  0.07280599 -0.08253168 -0.07466759\n",
            "  -0.0499647   0.00270114]]\n",
            "Σ = \n",
            "[[[ 1.02251092 -0.04923711  0.03790265 ...  0.04119082  0.05328848\n",
            "   -0.06265531]\n",
            "  [-0.04923711  1.00598586 -0.03797378 ...  0.02556656  0.04127586\n",
            "    0.02830468]\n",
            "  [ 0.03790265 -0.03797378  1.09622278 ...  0.02893818 -0.05202522\n",
            "    0.0388118 ]\n",
            "  ...\n",
            "  [ 0.04119082  0.02556656  0.02893818 ...  0.94212388 -0.02737614\n",
            "    0.03696312]\n",
            "  [ 0.05328848  0.04127586 -0.05202522 ... -0.02737614  0.87463424\n",
            "   -0.0469709 ]\n",
            "  [-0.06265531  0.02830468  0.0388118  ...  0.03696312 -0.0469709\n",
            "    0.90320393]]\n",
            "\n",
            " [[ 0.86768627  0.05460231 -0.08332556 ... -0.02894082 -0.02924905\n",
            "    0.06600294]\n",
            "  [ 0.05460231  0.82226778 -0.0425173  ... -0.0392316  -0.05780725\n",
            "    0.03342865]\n",
            "  [-0.08332556 -0.0425173   0.90336734 ... -0.00396386  0.04483956\n",
            "    0.0252357 ]\n",
            "  ...\n",
            "  [-0.02894082 -0.0392316  -0.00396386 ...  0.95507963 -0.00963832\n",
            "   -0.08456116]\n",
            "  [-0.02924905 -0.05780725  0.04483956 ... -0.00963832  0.86677192\n",
            "   -0.05223912]\n",
            "  [ 0.06600294  0.03342865  0.0252357  ... -0.08456116 -0.05223912\n",
            "    1.01565768]]]\n",
            "weight =  [0.57655955 0.42344045]\n"
          ],
          "name": "stdout"
        }
      ]
    },
    {
      "cell_type": "code",
      "metadata": {
        "colab": {
          "base_uri": "https://localhost:8080/"
        },
        "id": "Zd7eLmaSGp9P",
        "outputId": "0d3a0872-8345-4402-d75b-ad0734ff684b"
      },
      "source": [
        "result(x_test , y_test , model, False)"
      ],
      "execution_count": null,
      "outputs": [
        {
          "output_type": "stream",
          "text": [
            "F1 score:  0.21180555555555552\n",
            "Confusion Matrix:\n"
          ],
          "name": "stdout"
        },
        {
          "output_type": "display_data",
          "data": {
            "image/png": "[encoded data removed]",
            "text/plain": [
              "<Figure size 360x360 with 2 Axes>"
            ]
          },
          "metadata": {
            "tags": [],
            "needs_background": "light"
          }
        }
      ]
    },
    {
      "cell_type": "code",
      "metadata": {
        "colab": {
          "base_uri": "https://localhost:8080/"
        },
        "id": "-yOuvct5Gp9Q",
        "outputId": "b8f9e8c0-2707-495e-a44c-be4f29e2f8ae"
      },
      "source": [
        " AIC_BIC(x_train)"
      ],
      "execution_count": null,
      "outputs": [
        {
          "output_type": "display_data",
          "data": {
            "image/png": "[encoded data removed]",
            "text/plain": [
              "<Figure size 432x288 with 1 Axes>"
            ]
          },
          "metadata": {
            "tags": [],
            "needs_background": "light"
          }
        }
      ]
    },
    {
      "cell_type": "markdown",
      "metadata": {
        "id": "R3Z5gTGblnos"
      },
      "source": [
        "### Real Data"
      ]
    },
    {
      "cell_type": "code",
      "metadata": {
        "id": "UF9rDFPHlno_"
      },
      "source": [
        "x_train,x_test,y_train,y_test = train_test_split(x,y,test_size=0.3,random_state=10)"
      ],
      "execution_count": null,
      "outputs": []
    },
    {
      "cell_type": "code",
      "metadata": {
        "colab": {
          "base_uri": "https://localhost:8080/"
        },
        "id": "fnaNv3NXlnpA",
        "outputId": "d4203b0a-c5ee-4117-d686-adcd31a0aac9"
      },
      "source": [
        "from sklearn import mixture\n",
        "model = mixture.GaussianMixture(n_components=2, covariance_type='full').fit(x_train)\n",
        "labels = model.predict(x_test)\n",
        "\n",
        "print('\\u03BC = ', model.means_, sep=\"\\n\")\n",
        "print('\\u03A3 = ', model.covariances_, sep=\"\\n\")\n",
        "print ('weight = ', model.weights_)"
      ],
      "execution_count": null,
      "outputs": [
        {
          "output_type": "stream",
          "text": [
            "μ = \n",
            "[[0.49768017 0.44620253 0.81110268 ... 0.1537305  0.15168436 0.09164837]\n",
            " [0.51768513 0.56807512 0.80350531 ... 0.27081896 0.30845927 0.30471236]]\n",
            "Σ = \n",
            "[[[ 0.09306984 -0.01466789  0.00553208 ... -0.00991917 -0.00960959\n",
            "   -0.00763027]\n",
            "  [-0.01466789  0.24710683 -0.0032277  ...  0.01069769  0.01062907\n",
            "    0.00927271]\n",
            "  [ 0.00553208 -0.0032277   0.04373895 ...  0.00171805 -0.00064681\n",
            "    0.0008014 ]\n",
            "  ...\n",
            "  [-0.00991917  0.01069769  0.00171805 ...  0.05085637  0.04634104\n",
            "    0.03054038]\n",
            "  [-0.00960959  0.01062907 -0.00064681 ...  0.04634104  0.04746949\n",
            "    0.03147434]\n",
            "  [-0.00763027  0.00927271  0.0008014  ...  0.03054038  0.03147434\n",
            "    0.02939151]]\n",
            "\n",
            " [[ 0.07746174 -0.00788611  0.00209695 ...  0.00354644  0.00316873\n",
            "    0.00076757]\n",
            "  [-0.00788611  0.24536678  0.00613046 ...  0.02543036  0.01433768\n",
            "    0.00569344]\n",
            "  [ 0.00209695  0.00613046  0.03981648 ...  0.00208217  0.00330537\n",
            "    0.00188172]\n",
            "  ...\n",
            "  [ 0.00354644  0.02543036  0.00208217 ...  0.07820699  0.07230469\n",
            "    0.0496101 ]\n",
            "  [ 0.00316873  0.01433768  0.00330537 ...  0.07230469  0.07492371\n",
            "    0.05309175]\n",
            "  [ 0.00076757  0.00569344  0.00188172 ...  0.0496101   0.05309175\n",
            "    0.04754783]]]\n",
            "weight =  [0.5973535 0.4026465]\n"
          ],
          "name": "stdout"
        }
      ]
    },
    {
      "cell_type": "code",
      "metadata": {
        "colab": {
          "base_uri": "https://localhost:8080/"
        },
        "id": "SRUyrOV2lnpC",
        "outputId": "f904ce54-28fd-469a-f401-17eea943b954"
      },
      "source": [
        "result(x_test , y_test , model, False)"
      ],
      "execution_count": null,
      "outputs": [
        {
          "output_type": "stream",
          "text": [
            "F1 score:  0.4747515992922281\n",
            "Confusion Matrix:\n"
          ],
          "name": "stdout"
        },
        {
          "output_type": "display_data",
          "data": {
            "image/png": "[encoded data removed]",
            "text/plain": [
              "<Figure size 360x360 with 2 Axes>"
            ]
          },
          "metadata": {
            "tags": [],
            "needs_background": "light"
          }
        }
      ]
    },
    {
      "cell_type": "markdown",
      "metadata": {
        "id": "GF7qcRqmGp9S"
      },
      "source": [
        "## Logestic Regression "
      ]
    },
    {
      "cell_type": "code",
      "metadata": {
        "id": "vo8cRQcoGp9U"
      },
      "source": [
        "from sklearn.metrics import roc_auc_score\n",
        "from sklearn.metrics import roc_curve\n",
        "import matplotlib.pyplot as plt\n",
        "def plot_ROC(y_test, y_pred):\n",
        "    logit_roc_auc = roc_auc_score(y_test, y_pred)\n",
        "    fpr, tpr, thresholds = roc_curve(y_test, y_pred)\n",
        "    plt.figure()\n",
        "    plt.plot(fpr, tpr, label='Logistic Regression (area = %0.2f)' % logit_roc_auc)\n",
        "    plt.plot([0, 1], [0, 1],'r--')\n",
        "    plt.xlim=([0.0, 1.0])\n",
        "    plt.ylim=([0.0, 1.05])\n",
        "    plt.xlabel('False Positive Rate')\n",
        "    plt.ylabel('True Positive Rate')\n",
        "    plt.title('Receiver Operating Characteristic')\n",
        "    plt.legend(loc=\"lower right\")\n",
        "    plt.savefig('Log_ROC')\n",
        "    plt.show()"
      ],
      "execution_count": null,
      "outputs": []
    },
    {
      "cell_type": "markdown",
      "metadata": {
        "id": "_0cnSYxOGp9V"
      },
      "source": [
        "### with PCA"
      ]
    },
    {
      "cell_type": "code",
      "metadata": {
        "id": "xxcS9uzWGp9n"
      },
      "source": [
        "x_train,x_test,y_train,y_test = train_test_split(x_pca_w,y,test_size=0.3,random_state=42)"
      ],
      "execution_count": null,
      "outputs": []
    },
    {
      "cell_type": "code",
      "metadata": {
        "id": "vqwOEy3NGp9o"
      },
      "source": [
        "from sklearn.linear_model import LogisticRegression\n",
        "model = LogisticRegression(random_state=42).fit(x_train, y_train)\n",
        "y_pred = model.predict(x_test)"
      ],
      "execution_count": null,
      "outputs": []
    },
    {
      "cell_type": "code",
      "metadata": {
        "colab": {
          "base_uri": "https://localhost:8080/"
        },
        "id": "h4fzSK5OGp9q",
        "outputId": "7a24df32-3fdd-48ec-f0d7-5d165f612f08"
      },
      "source": [
        "result(x_test , y_test , model, False)"
      ],
      "execution_count": null,
      "outputs": [
        {
          "output_type": "stream",
          "text": [
            "F1 score:  0.7574576222241474\n",
            "Confusion Matrix:\n"
          ],
          "name": "stdout"
        },
        {
          "output_type": "display_data",
          "data": {
            "image/png": "[encoded data removed]",
            "text/plain": [
              "<Figure size 360x360 with 2 Axes>"
            ]
          },
          "metadata": {
            "tags": [],
            "needs_background": "light"
          }
        }
      ]
    },
    {
      "cell_type": "code",
      "metadata": {
        "colab": {
          "base_uri": "https://localhost:8080/"
        },
        "id": "iKzPJ2M4Gp9s",
        "outputId": "70546add-627e-4a46-e941-6835c6a30275"
      },
      "source": [
        "plot_ROC(y_test, y_pred)"
      ],
      "execution_count": null,
      "outputs": [
        {
          "output_type": "display_data",
          "data": {
            "image/png": "[encoded data removed]",
            "text/plain": [
              "<Figure size 432x288 with 1 Axes>"
            ]
          },
          "metadata": {
            "tags": [],
            "needs_background": "light"
          }
        }
      ]
    },
    {
      "cell_type": "markdown",
      "metadata": {
        "id": "Lw2XVzHAGp9u"
      },
      "source": [
        "### with PCA and LDA"
      ]
    },
    {
      "cell_type": "code",
      "metadata": {
        "id": "1_UNsg_iGp9v"
      },
      "source": [
        "x_train,x_test,y_train,y_test = train_test_split(x_pca_w_lda,y,test_size=0.3,random_state=42)"
      ],
      "execution_count": null,
      "outputs": []
    },
    {
      "cell_type": "code",
      "metadata": {
        "id": "3M5qPM70Gp9w"
      },
      "source": [
        "from sklearn.linear_model import LogisticRegression\n",
        "model = LogisticRegression(random_state=10).fit(x_train, y_train)\n",
        "y_pred = model.predict(x_test)"
      ],
      "execution_count": null,
      "outputs": []
    },
    {
      "cell_type": "code",
      "metadata": {
        "colab": {
          "base_uri": "https://localhost:8080/"
        },
        "id": "2vxf5mDVGp9x",
        "outputId": "8339ca52-cb78-40f6-f249-9c41e6757335"
      },
      "source": [
        "result(x_test , y_test , model, False)"
      ],
      "execution_count": null,
      "outputs": [
        {
          "output_type": "stream",
          "text": [
            "F1 score:  0.9546906187624751\n",
            "Confusion Matrix:\n"
          ],
          "name": "stdout"
        },
        {
          "output_type": "display_data",
          "data": {
            "image/png": "[encoded data removed]",
            "text/plain": [
              "<Figure size 360x360 with 2 Axes>"
            ]
          },
          "metadata": {
            "tags": [],
            "needs_background": "light"
          }
        }
      ]
    },
    {
      "cell_type": "code",
      "metadata": {
        "colab": {
          "base_uri": "https://localhost:8080/"
        },
        "id": "WmDDc444Gp9z",
        "outputId": "bc82371b-5a48-4a15-dfcb-4b01e327a770"
      },
      "source": [
        "plot_ROC(y_test, y_pred)"
      ],
      "execution_count": null,
      "outputs": [
        {
          "output_type": "display_data",
          "data": {
            "image/png": "[encoded data removed]",
            "text/plain": [
              "<Figure size 432x288 with 1 Axes>"
            ]
          },
          "metadata": {
            "tags": [],
            "needs_background": "light"
          }
        }
      ]
    },
    {
      "cell_type": "markdown",
      "metadata": {
        "id": "JvuleW3wlnpV"
      },
      "source": [
        "### Real Data"
      ]
    },
    {
      "cell_type": "code",
      "metadata": {
        "id": "pAj6CZs-lnpW"
      },
      "source": [
        "x_train,x_test,y_train,y_test = train_test_split(x,y,test_size=0.3,random_state=10)"
      ],
      "execution_count": null,
      "outputs": []
    },
    {
      "cell_type": "code",
      "metadata": {
        "colab": {
          "base_uri": "https://localhost:8080/"
        },
        "id": "5rquQmu-Gp95",
        "outputId": "324f4fbf-9584-4aa8-9e4e-f7213e3c96f0"
      },
      "source": [
        "from sklearn.linear_model import LogisticRegression\n",
        "model = LogisticRegression(random_state=10).fit(x_train, y_train)\n",
        "y_pred = model.predict(x_test)"
      ],
      "execution_count": null,
      "outputs": [
        {
          "output_type": "stream",
          "text": [
            "/usr/local/lib/python3.6/dist-packages/sklearn/linear_model/_logistic.py:940: ConvergenceWarning: lbfgs failed to converge (status=1):\n",
            "STOP: TOTAL NO. of ITERATIONS REACHED LIMIT.\n",
            "\n",
            "Increase the number of iterations (max_iter) or scale the data as shown in:\n",
            "    https://scikit-learn.org/stable/modules/preprocessing.html\n",
            "Please also refer to the documentation for alternative solver options:\n",
            "    https://scikit-learn.org/stable/modules/linear_model.html#logistic-regression\n",
            "  extra_warning_msg=_LOGISTIC_SOLVER_CONVERGENCE_MSG)\n"
          ],
          "name": "stderr"
        }
      ]
    },
    {
      "cell_type": "code",
      "metadata": {
        "colab": {
          "base_uri": "https://localhost:8080/"
        },
        "id": "D2sw-B5GGp96",
        "outputId": "d7d34fc5-8a7c-4a4d-a2df-57daf99d2115"
      },
      "source": [
        "result(x_test , y_test , model, False)"
      ],
      "execution_count": null,
      "outputs": [
        {
          "output_type": "stream",
          "text": [
            "F1 score:  0.6932432432432434\n",
            "Confusion Matrix:\n"
          ],
          "name": "stdout"
        },
        {
          "output_type": "display_data",
          "data": {
            "image/png": "[encoded data removed]",
            "text/plain": [
              "<Figure size 360x360 with 2 Axes>"
            ]
          },
          "metadata": {
            "tags": [],
            "needs_background": "light"
          }
        }
      ]
    },
    {
      "cell_type": "code",
      "metadata": {
        "colab": {
          "base_uri": "https://localhost:8080/"
        },
        "id": "Y9OWWAFjGp98",
        "outputId": "6b26caab-36d7-4743-bec9-2e1beb7e58af"
      },
      "source": [
        "plot_ROC(y_test, y_pred)"
      ],
      "execution_count": null,
      "outputs": [
        {
          "output_type": "display_data",
          "data": {
            "image/png": "[encoded data removed]",
            "text/plain": [
              "<Figure size 432x288 with 1 Axes>"
            ]
          },
          "metadata": {
            "tags": [],
            "needs_background": "light"
          }
        }
      ]
    },
    {
      "cell_type": "markdown",
      "metadata": {
        "id": "N3IgttTlGyxQ"
      },
      "source": [
        "## RBF"
      ]
    },
    {
      "cell_type": "markdown",
      "metadata": {
        "id": "gDdCceFpG5MB"
      },
      "source": [
        "### with PCA and LDA"
      ]
    },
    {
      "cell_type": "code",
      "metadata": {
        "id": "_4iVru1sG3va"
      },
      "source": [
        "x_train,x_test,y_train,y_test = train_test_split(x_pca_w_lda,y,test_size=0.3,random_state=42)"
      ],
      "execution_count": null,
      "outputs": []
    },
    {
      "cell_type": "code",
      "metadata": {
        "id": "YY_wKC9lLanK"
      },
      "source": [
        "from sklearn import svm\n",
        "\n",
        "model = svm.SVC(kernel='rbf',class_weight='balanced', degree=3).fit(x_train,y_train)\n"
      ],
      "execution_count": null,
      "outputs": []
    },
    {
      "cell_type": "code",
      "metadata": {
        "colab": {
          "base_uri": "https://localhost:8080/"
        },
        "id": "5kBuEGlbLf7A",
        "outputId": "41a1590a-e876-47b2-adb1-9ac369d38bdc"
      },
      "source": [
        "scores = model.score(x_test,y_test)\n",
        "print('Accuracy of svm with RBF kernel:',scores)\n",
        "result(x_test , y_test , model, False)\n"
      ],
      "execution_count": null,
      "outputs": [
        {
          "output_type": "stream",
          "text": [
            "Accuracy of svm with RBF kernel: 0.9647577092511013\n",
            "F1 score:  0.9556207233626588\n",
            "Confusion Matrix:\n"
          ],
          "name": "stdout"
        },
        {
          "output_type": "display_data",
          "data": {
            "image/png": "[encoded data removed]",
            "text/plain": [
              "<Figure size 360x360 with 2 Axes>"
            ]
          },
          "metadata": {
            "tags": [],
            "needs_background": "light"
          }
        }
      ]
    },
    {
      "cell_type": "markdown",
      "metadata": {
        "id": "14bWruUhMkzW"
      },
      "source": [
        "### with PCA"
      ]
    },
    {
      "cell_type": "code",
      "metadata": {
        "id": "HKYemUoyMnQN"
      },
      "source": [
        "x_train,x_test,y_train,y_test = train_test_split(x_pca_w,y,test_size=0.3,random_state=42)"
      ],
      "execution_count": null,
      "outputs": []
    },
    {
      "cell_type": "code",
      "metadata": {
        "id": "-f2ic5xpM2gL"
      },
      "source": [
        "from sklearn import svm\n",
        "\n",
        "model = svm.SVC(kernel='rbf',class_weight='balanced', degree=3).fit(x_train,y_train)\n"
      ],
      "execution_count": null,
      "outputs": []
    },
    {
      "cell_type": "code",
      "metadata": {
        "colab": {
          "base_uri": "https://localhost:8080/"
        },
        "id": "1G7_PzPxM6ln",
        "outputId": "f6cacffe-4a0b-4461-8eb4-ee91de5d9a91"
      },
      "source": [
        "scores = model.score(x_test,y_test)\n",
        "print('Accuracy of svm with RBF kernel:',scores)\n",
        "result(x_test , y_test , model, False)\n"
      ],
      "execution_count": null,
      "outputs": [
        {
          "output_type": "stream",
          "text": [
            "Accuracy of svm with RBF kernel: 0.7797356828193832\n",
            "F1 score:  0.5963726884779517\n",
            "Confusion Matrix:\n"
          ],
          "name": "stdout"
        },
        {
          "output_type": "display_data",
          "data": {
            "image/png": "[encoded data removed]",
            "text/plain": [
              "<Figure size 360x360 with 2 Axes>"
            ]
          },
          "metadata": {
            "tags": [],
            "needs_background": "light"
          }
        }
      ]
    },
    {
      "cell_type": "markdown",
      "metadata": {
        "id": "9OG7lWd9lnph"
      },
      "source": [
        "### Real Data"
      ]
    },
    {
      "cell_type": "code",
      "metadata": {
        "id": "kcPstG3clnph"
      },
      "source": [
        "x_train,x_test,y_train,y_test = train_test_split(x,y,test_size=0.3,random_state=10)"
      ],
      "execution_count": null,
      "outputs": []
    },
    {
      "cell_type": "code",
      "metadata": {
        "id": "VL0iOG76NJO7"
      },
      "source": [
        "from sklearn import svm\n",
        "\n",
        "model = svm.SVC(kernel='rbf',class_weight='balanced', degree=3).fit(x_train,y_train)\n"
      ],
      "execution_count": null,
      "outputs": []
    },
    {
      "cell_type": "code",
      "metadata": {
        "colab": {
          "base_uri": "https://localhost:8080/"
        },
        "id": "UAf0CG0_NL54",
        "outputId": "82d04626-8aab-47c3-ad9f-b46f04679e0c"
      },
      "source": [
        "scores = model.score(x_test,y_test)\n",
        "print('Accuracy of svm with RBF kernel:',scores)\n",
        "result(x_test , y_test , model, False)\n"
      ],
      "execution_count": null,
      "outputs": [
        {
          "output_type": "stream",
          "text": [
            "Accuracy of svm with RBF kernel: 0.8105726872246696\n",
            "F1 score:  0.7336335107108747\n",
            "Confusion Matrix:\n"
          ],
          "name": "stdout"
        },
        {
          "output_type": "display_data",
          "data": {
            "image/png": "[encoded data removed]",
            "text/plain": [
              "<Figure size 360x360 with 2 Axes>"
            ]
          },
          "metadata": {
            "tags": [],
            "needs_background": "light"
          }
        }
      ]
    }
  ]
}